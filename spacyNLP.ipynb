{
 "cells": [
  {
   "metadata": {},
   "cell_type": "markdown",
   "source": "# Spacy NLP",
   "id": "c787e20539875f96"
  },
  {
   "metadata": {
    "collapsed": true,
    "ExecuteTime": {
     "end_time": "2025-01-21T09:40:36.731888Z",
     "start_time": "2025-01-21T09:40:36.684372Z"
    }
   },
   "cell_type": "code",
   "source": [
    "import pandas as pd\n",
    "import spacy\n",
    "from spacy import displacy\n",
    "from spacy.matcher import Matcher\n",
    "import nltk"
   ],
   "id": "initial_id",
   "outputs": [],
   "execution_count": 30
  },
  {
   "metadata": {
    "ExecuteTime": {
     "end_time": "2025-01-21T08:40:17.230984Z",
     "start_time": "2025-01-21T08:40:17.074983Z"
    }
   },
   "cell_type": "code",
   "source": "df = pd.read_csv('data/train.dat', sep=\"\\t\", header=None)",
   "id": "9426301889477ada",
   "outputs": [],
   "execution_count": 2
  },
  {
   "metadata": {
    "ExecuteTime": {
     "end_time": "2025-01-21T08:40:17.278538Z",
     "start_time": "2025-01-21T08:40:17.265335Z"
    }
   },
   "cell_type": "code",
   "source": [
    "df.rename(columns={0:'condition', 1:'abstract'}, inplace=True)\n",
    "df.head()"
   ],
   "id": "9c80e2430acb5cf4",
   "outputs": [
    {
     "data": {
      "text/plain": [
       "   condition                                           abstract\n",
       "0          4  Catheterization laboratory events and hospital...\n",
       "1          5  Renal abscess in children. Three cases of rena...\n",
       "2          2  Hyperplastic polyps seen at sigmoidoscopy are ...\n",
       "3          5  Subclavian artery to innominate vein fistula a...\n",
       "4          4  Effect of local inhibition of gamma-aminobutyr..."
      ],
      "text/html": [
       "<div>\n",
       "<style scoped>\n",
       "    .dataframe tbody tr th:only-of-type {\n",
       "        vertical-align: middle;\n",
       "    }\n",
       "\n",
       "    .dataframe tbody tr th {\n",
       "        vertical-align: top;\n",
       "    }\n",
       "\n",
       "    .dataframe thead th {\n",
       "        text-align: right;\n",
       "    }\n",
       "</style>\n",
       "<table border=\"1\" class=\"dataframe\">\n",
       "  <thead>\n",
       "    <tr style=\"text-align: right;\">\n",
       "      <th></th>\n",
       "      <th>condition</th>\n",
       "      <th>abstract</th>\n",
       "    </tr>\n",
       "  </thead>\n",
       "  <tbody>\n",
       "    <tr>\n",
       "      <th>0</th>\n",
       "      <td>4</td>\n",
       "      <td>Catheterization laboratory events and hospital...</td>\n",
       "    </tr>\n",
       "    <tr>\n",
       "      <th>1</th>\n",
       "      <td>5</td>\n",
       "      <td>Renal abscess in children. Three cases of rena...</td>\n",
       "    </tr>\n",
       "    <tr>\n",
       "      <th>2</th>\n",
       "      <td>2</td>\n",
       "      <td>Hyperplastic polyps seen at sigmoidoscopy are ...</td>\n",
       "    </tr>\n",
       "    <tr>\n",
       "      <th>3</th>\n",
       "      <td>5</td>\n",
       "      <td>Subclavian artery to innominate vein fistula a...</td>\n",
       "    </tr>\n",
       "    <tr>\n",
       "      <th>4</th>\n",
       "      <td>4</td>\n",
       "      <td>Effect of local inhibition of gamma-aminobutyr...</td>\n",
       "    </tr>\n",
       "  </tbody>\n",
       "</table>\n",
       "</div>"
      ]
     },
     "execution_count": 3,
     "metadata": {},
     "output_type": "execute_result"
    }
   ],
   "execution_count": 3
  },
  {
   "metadata": {
    "ExecuteTime": {
     "end_time": "2025-01-21T08:44:17.630696Z",
     "start_time": "2025-01-21T08:44:16.853291Z"
    }
   },
   "cell_type": "code",
   "source": "nlp = spacy.load(\"en_core_web_sm\")",
   "id": "67351da82f3d54e3",
   "outputs": [],
   "execution_count": 4
  },
  {
   "metadata": {
    "ExecuteTime": {
     "end_time": "2025-01-21T08:53:09.695112Z",
     "start_time": "2025-01-21T08:53:09.634851Z"
    }
   },
   "cell_type": "code",
   "source": "lexical_df = df.copy()",
   "id": "8b47312dff77437",
   "outputs": [],
   "execution_count": 17
  },
  {
   "metadata": {
    "ExecuteTime": {
     "end_time": "2025-01-21T09:03:15.422969Z",
     "start_time": "2025-01-21T08:56:30.067891Z"
    }
   },
   "cell_type": "code",
   "source": [
    "sentences = []\n",
    "for record in lexical_df['abstract']:\n",
    "    doc = nlp(record)\n",
    "    sentences.append([sentence.text for sentence in doc.sents])"
   ],
   "id": "f3c340df18b95c8a",
   "outputs": [],
   "execution_count": 19
  },
  {
   "metadata": {
    "ExecuteTime": {
     "end_time": "2025-01-21T09:03:15.459352Z",
     "start_time": "2025-01-21T09:03:15.447930Z"
    }
   },
   "cell_type": "code",
   "source": "lexical_df['sentences'] = sentences",
   "id": "31a3e12873c8b7d5",
   "outputs": [],
   "execution_count": 20
  },
  {
   "metadata": {
    "ExecuteTime": {
     "end_time": "2025-01-21T09:03:15.519504Z",
     "start_time": "2025-01-21T09:03:15.505413Z"
    }
   },
   "cell_type": "code",
   "source": "lexical_df.head()",
   "id": "9bf1638e176b5e43",
   "outputs": [
    {
     "data": {
      "text/plain": [
       "   condition                                           abstract  \\\n",
       "0          4  Catheterization laboratory events and hospital...   \n",
       "1          5  Renal abscess in children. Three cases of rena...   \n",
       "2          2  Hyperplastic polyps seen at sigmoidoscopy are ...   \n",
       "3          5  Subclavian artery to innominate vein fistula a...   \n",
       "4          4  Effect of local inhibition of gamma-aminobutyr...   \n",
       "\n",
       "                                           sentences  \n",
       "0  [Catheterization laboratory events and hospita...  \n",
       "1  [Renal abscess in children., Three cases of re...  \n",
       "2  [Hyperplastic polyps seen at sigmoidoscopy are...  \n",
       "3  [Subclavian artery to innominate vein fistula ...  \n",
       "4  [Effect of local inhibition of gamma-aminobuty...  "
      ],
      "text/html": [
       "<div>\n",
       "<style scoped>\n",
       "    .dataframe tbody tr th:only-of-type {\n",
       "        vertical-align: middle;\n",
       "    }\n",
       "\n",
       "    .dataframe tbody tr th {\n",
       "        vertical-align: top;\n",
       "    }\n",
       "\n",
       "    .dataframe thead th {\n",
       "        text-align: right;\n",
       "    }\n",
       "</style>\n",
       "<table border=\"1\" class=\"dataframe\">\n",
       "  <thead>\n",
       "    <tr style=\"text-align: right;\">\n",
       "      <th></th>\n",
       "      <th>condition</th>\n",
       "      <th>abstract</th>\n",
       "      <th>sentences</th>\n",
       "    </tr>\n",
       "  </thead>\n",
       "  <tbody>\n",
       "    <tr>\n",
       "      <th>0</th>\n",
       "      <td>4</td>\n",
       "      <td>Catheterization laboratory events and hospital...</td>\n",
       "      <td>[Catheterization laboratory events and hospita...</td>\n",
       "    </tr>\n",
       "    <tr>\n",
       "      <th>1</th>\n",
       "      <td>5</td>\n",
       "      <td>Renal abscess in children. Three cases of rena...</td>\n",
       "      <td>[Renal abscess in children., Three cases of re...</td>\n",
       "    </tr>\n",
       "    <tr>\n",
       "      <th>2</th>\n",
       "      <td>2</td>\n",
       "      <td>Hyperplastic polyps seen at sigmoidoscopy are ...</td>\n",
       "      <td>[Hyperplastic polyps seen at sigmoidoscopy are...</td>\n",
       "    </tr>\n",
       "    <tr>\n",
       "      <th>3</th>\n",
       "      <td>5</td>\n",
       "      <td>Subclavian artery to innominate vein fistula a...</td>\n",
       "      <td>[Subclavian artery to innominate vein fistula ...</td>\n",
       "    </tr>\n",
       "    <tr>\n",
       "      <th>4</th>\n",
       "      <td>4</td>\n",
       "      <td>Effect of local inhibition of gamma-aminobutyr...</td>\n",
       "      <td>[Effect of local inhibition of gamma-aminobuty...</td>\n",
       "    </tr>\n",
       "  </tbody>\n",
       "</table>\n",
       "</div>"
      ]
     },
     "execution_count": 21,
     "metadata": {},
     "output_type": "execute_result"
    }
   ],
   "execution_count": 21
  },
  {
   "metadata": {
    "ExecuteTime": {
     "end_time": "2025-01-21T09:25:29.164268Z",
     "start_time": "2025-01-21T09:18:08.385442Z"
    }
   },
   "cell_type": "code",
   "source": [
    "words = []\n",
    "lemmatization = []\n",
    "\n",
    "stemming = []\n",
    "porterStemmer = nltk.PorterStemmer()\n",
    "\n",
    "pos_tag = []\n",
    "\n",
    "for record in df[\"abstract\"]:\n",
    "    doc = nlp(record)\n",
    "    tokenized_record = []\n",
    "    lemmatized_record = []\n",
    "    stemmed_record = []\n",
    "    pos_tag_record = []\n",
    "    for token in doc:\n",
    "        word = token.text # Tokenization\n",
    "        tokenized_record.append(word)\n",
    "\n",
    "        lemmatized_record.append(token.lemma_) # Lemmatization\n",
    "\n",
    "        stemmed_record.append(porterStemmer.stem(word)) # Stemming\n",
    "\n",
    "        pos_tag_record.append(token.tag_) # POS Tagging\n",
    "\n",
    "        # print(token.text, token.lemma_, token.pos_, token.tag_, token.dep_, token.shape_, token.is_alpha, token.is_stop)\n",
    "\n",
    "    words.append(tokenized_record)\n",
    "    lemmatization.append(lemmatized_record)\n",
    "    stemming.append(stemmed_record)\n",
    "    pos_tag.append(pos_tag_record)"
   ],
   "id": "bea0b193e75147bf",
   "outputs": [],
   "execution_count": 27
  },
  {
   "metadata": {
    "ExecuteTime": {
     "end_time": "2025-01-21T09:25:29.238255Z",
     "start_time": "2025-01-21T09:25:29.190882Z"
    }
   },
   "cell_type": "code",
   "source": [
    "lexical_df['words'] = words\n",
    "lexical_df['lemmatization'] = lemmatization\n",
    "lexical_df['stemming'] = stemming\n",
    "lexical_df['pos_tag'] = pos_tag"
   ],
   "id": "ee91ccf896492ea6",
   "outputs": [],
   "execution_count": 28
  },
  {
   "metadata": {
    "ExecuteTime": {
     "end_time": "2025-01-21T09:25:39.672420Z",
     "start_time": "2025-01-21T09:25:39.643702Z"
    }
   },
   "cell_type": "code",
   "source": "lexical_df.head()",
   "id": "41b616a3ade5d577",
   "outputs": [
    {
     "data": {
      "text/plain": [
       "   condition                                           abstract  \\\n",
       "0          4  Catheterization laboratory events and hospital...   \n",
       "1          5  Renal abscess in children. Three cases of rena...   \n",
       "2          2  Hyperplastic polyps seen at sigmoidoscopy are ...   \n",
       "3          5  Subclavian artery to innominate vein fistula a...   \n",
       "4          4  Effect of local inhibition of gamma-aminobutyr...   \n",
       "\n",
       "                                           sentences  \\\n",
       "0  [Catheterization laboratory events and hospita...   \n",
       "1  [Renal abscess in children., Three cases of re...   \n",
       "2  [Hyperplastic polyps seen at sigmoidoscopy are...   \n",
       "3  [Subclavian artery to innominate vein fistula ...   \n",
       "4  [Effect of local inhibition of gamma-aminobuty...   \n",
       "\n",
       "                                               words  \\\n",
       "0  [Catheterization, laboratory, events, and, hos...   \n",
       "1  [Renal, abscess, in, children, ., Three, cases...   \n",
       "2  [Hyperplastic, polyps, seen, at, sigmoidoscopy...   \n",
       "3  [Subclavian, artery, to, innominate, vein, fis...   \n",
       "4  [Effect, of, local, inhibition, of, gamma, -, ...   \n",
       "\n",
       "                                       lemmatization  \\\n",
       "0  [catheterization, laboratory, event, and, hosp...   \n",
       "1  [Renal, abscess, in, child, ., three, case, of...   \n",
       "2  [hyperplastic, polyp, see, at, sigmoidoscopy, ...   \n",
       "3  [subclavian, artery, to, innominate, vein, fis...   \n",
       "4  [effect, of, local, inhibition, of, gamma, -, ...   \n",
       "\n",
       "                                            stemming  \\\n",
       "0  [catheter, laboratori, event, and, hospit, out...   \n",
       "1  [renal, abscess, in, children, ., three, case,...   \n",
       "2  [hyperplast, polyp, seen, at, sigmoidoscopi, a...   \n",
       "3  [subclavian, arteri, to, innomin, vein, fistul...   \n",
       "4  [effect, of, local, inhibit, of, gamma, -, ami...   \n",
       "\n",
       "                                             pos_tag  \n",
       "0  [NN, NN, NNS, CC, NN, NN, IN, JJ, NN, IN, JJ, ...  \n",
       "1  [NNP, NN, IN, NNS, ., CD, NNS, IN, JJ, NNS, IN...  \n",
       "2  [JJ, NNS, VBN, IN, NN, VBP, NNS, IN, JJ, NN, V...  \n",
       "3  [JJ, NN, TO, VB, JJ, NN, IN, NN, IN, DT, NN, N...  \n",
       "4  [NN, IN, JJ, NN, IN, NN, HYPH, JJ, NN, NN, IN,...  "
      ],
      "text/html": [
       "<div>\n",
       "<style scoped>\n",
       "    .dataframe tbody tr th:only-of-type {\n",
       "        vertical-align: middle;\n",
       "    }\n",
       "\n",
       "    .dataframe tbody tr th {\n",
       "        vertical-align: top;\n",
       "    }\n",
       "\n",
       "    .dataframe thead th {\n",
       "        text-align: right;\n",
       "    }\n",
       "</style>\n",
       "<table border=\"1\" class=\"dataframe\">\n",
       "  <thead>\n",
       "    <tr style=\"text-align: right;\">\n",
       "      <th></th>\n",
       "      <th>condition</th>\n",
       "      <th>abstract</th>\n",
       "      <th>sentences</th>\n",
       "      <th>words</th>\n",
       "      <th>lemmatization</th>\n",
       "      <th>stemming</th>\n",
       "      <th>pos_tag</th>\n",
       "    </tr>\n",
       "  </thead>\n",
       "  <tbody>\n",
       "    <tr>\n",
       "      <th>0</th>\n",
       "      <td>4</td>\n",
       "      <td>Catheterization laboratory events and hospital...</td>\n",
       "      <td>[Catheterization laboratory events and hospita...</td>\n",
       "      <td>[Catheterization, laboratory, events, and, hos...</td>\n",
       "      <td>[catheterization, laboratory, event, and, hosp...</td>\n",
       "      <td>[catheter, laboratori, event, and, hospit, out...</td>\n",
       "      <td>[NN, NN, NNS, CC, NN, NN, IN, JJ, NN, IN, JJ, ...</td>\n",
       "    </tr>\n",
       "    <tr>\n",
       "      <th>1</th>\n",
       "      <td>5</td>\n",
       "      <td>Renal abscess in children. Three cases of rena...</td>\n",
       "      <td>[Renal abscess in children., Three cases of re...</td>\n",
       "      <td>[Renal, abscess, in, children, ., Three, cases...</td>\n",
       "      <td>[Renal, abscess, in, child, ., three, case, of...</td>\n",
       "      <td>[renal, abscess, in, children, ., three, case,...</td>\n",
       "      <td>[NNP, NN, IN, NNS, ., CD, NNS, IN, JJ, NNS, IN...</td>\n",
       "    </tr>\n",
       "    <tr>\n",
       "      <th>2</th>\n",
       "      <td>2</td>\n",
       "      <td>Hyperplastic polyps seen at sigmoidoscopy are ...</td>\n",
       "      <td>[Hyperplastic polyps seen at sigmoidoscopy are...</td>\n",
       "      <td>[Hyperplastic, polyps, seen, at, sigmoidoscopy...</td>\n",
       "      <td>[hyperplastic, polyp, see, at, sigmoidoscopy, ...</td>\n",
       "      <td>[hyperplast, polyp, seen, at, sigmoidoscopi, a...</td>\n",
       "      <td>[JJ, NNS, VBN, IN, NN, VBP, NNS, IN, JJ, NN, V...</td>\n",
       "    </tr>\n",
       "    <tr>\n",
       "      <th>3</th>\n",
       "      <td>5</td>\n",
       "      <td>Subclavian artery to innominate vein fistula a...</td>\n",
       "      <td>[Subclavian artery to innominate vein fistula ...</td>\n",
       "      <td>[Subclavian, artery, to, innominate, vein, fis...</td>\n",
       "      <td>[subclavian, artery, to, innominate, vein, fis...</td>\n",
       "      <td>[subclavian, arteri, to, innomin, vein, fistul...</td>\n",
       "      <td>[JJ, NN, TO, VB, JJ, NN, IN, NN, IN, DT, NN, N...</td>\n",
       "    </tr>\n",
       "    <tr>\n",
       "      <th>4</th>\n",
       "      <td>4</td>\n",
       "      <td>Effect of local inhibition of gamma-aminobutyr...</td>\n",
       "      <td>[Effect of local inhibition of gamma-aminobuty...</td>\n",
       "      <td>[Effect, of, local, inhibition, of, gamma, -, ...</td>\n",
       "      <td>[effect, of, local, inhibition, of, gamma, -, ...</td>\n",
       "      <td>[effect, of, local, inhibit, of, gamma, -, ami...</td>\n",
       "      <td>[NN, IN, JJ, NN, IN, NN, HYPH, JJ, NN, NN, IN,...</td>\n",
       "    </tr>\n",
       "  </tbody>\n",
       "</table>\n",
       "</div>"
      ]
     },
     "execution_count": 29,
     "metadata": {},
     "output_type": "execute_result"
    }
   ],
   "execution_count": 29
  },
  {
   "metadata": {
    "ExecuteTime": {
     "end_time": "2025-01-21T09:42:26.698865Z",
     "start_time": "2025-01-21T09:42:25.291500Z"
    }
   },
   "cell_type": "code",
   "source": [
    "# Crea una copia del dataframe per l'analisi sintattica\n",
    "syntax_df = lexical_df.copy()"
   ],
   "id": "87d6c0d55778cac",
   "outputs": [],
   "execution_count": 31
  },
  {
   "metadata": {
    "ExecuteTime": {
     "end_time": "2025-01-21T09:57:32.661062Z",
     "start_time": "2025-01-21T09:42:28.839404Z"
    }
   },
   "cell_type": "code",
   "source": [
    "# Definisci il pattern per il chunking\n",
    "pattern = [{\"POS\": \"PROPN\"}, {\"POS\": \"PROPN\"}]  # Pattern per due nomi propri consecutivi\n",
    "\n",
    "# Inizializza il matcher con il vocabolario del modello\n",
    "matcher = Matcher(nlp.vocab)\n",
    "matcher.add(\"NP\", [pattern])\n",
    "\n",
    "# Applica il chunking a ciascun record\n",
    "chunking = []\n",
    "for record in lexical_df['abstract']:\n",
    "    doc = nlp(record)\n",
    "    matches = matcher(doc)\n",
    "    chunked_record = []\n",
    "    for match_id, start, end in matches:\n",
    "        span = doc[start:end]\n",
    "        chunked_record.append(span.text)\n",
    "    chunking.append(chunked_record)"
   ],
   "id": "bbcd19ab2dcce392",
   "outputs": [],
   "execution_count": 32
  },
  {
   "metadata": {
    "ExecuteTime": {
     "end_time": "2025-01-21T09:57:32.987180Z",
     "start_time": "2025-01-21T09:57:32.925027Z"
    }
   },
   "cell_type": "code",
   "source": [
    "# Salva i risultati del chunking nel dataframe\n",
    "syntax_df[\"shallow_parsing\"] = chunking"
   ],
   "id": "6feea51961df75f3",
   "outputs": [],
   "execution_count": 33
  },
  {
   "metadata": {
    "ExecuteTime": {
     "end_time": "2025-01-21T09:57:33.113143Z",
     "start_time": "2025-01-21T09:57:33.009540Z"
    }
   },
   "cell_type": "code",
   "source": [
    "# Visualizza il dataframe aggiornato\n",
    "syntax_df.head()"
   ],
   "id": "f94a5f06686fe84f",
   "outputs": [
    {
     "data": {
      "text/plain": [
       "   condition                                           abstract  \\\n",
       "0          4  Catheterization laboratory events and hospital...   \n",
       "1          5  Renal abscess in children. Three cases of rena...   \n",
       "2          2  Hyperplastic polyps seen at sigmoidoscopy are ...   \n",
       "3          5  Subclavian artery to innominate vein fistula a...   \n",
       "4          4  Effect of local inhibition of gamma-aminobutyr...   \n",
       "\n",
       "                                           sentences  \\\n",
       "0  [Catheterization laboratory events and hospita...   \n",
       "1  [Renal abscess in children., Three cases of re...   \n",
       "2  [Hyperplastic polyps seen at sigmoidoscopy are...   \n",
       "3  [Subclavian artery to innominate vein fistula ...   \n",
       "4  [Effect of local inhibition of gamma-aminobuty...   \n",
       "\n",
       "                                               words  \\\n",
       "0  [Catheterization, laboratory, events, and, hos...   \n",
       "1  [Renal, abscess, in, children, ., Three, cases...   \n",
       "2  [Hyperplastic, polyps, seen, at, sigmoidoscopy...   \n",
       "3  [Subclavian, artery, to, innominate, vein, fis...   \n",
       "4  [Effect, of, local, inhibition, of, gamma, -, ...   \n",
       "\n",
       "                                       lemmatization  \\\n",
       "0  [catheterization, laboratory, event, and, hosp...   \n",
       "1  [Renal, abscess, in, child, ., three, case, of...   \n",
       "2  [hyperplastic, polyp, see, at, sigmoidoscopy, ...   \n",
       "3  [subclavian, artery, to, innominate, vein, fis...   \n",
       "4  [effect, of, local, inhibition, of, gamma, -, ...   \n",
       "\n",
       "                                            stemming  \\\n",
       "0  [catheter, laboratori, event, and, hospit, out...   \n",
       "1  [renal, abscess, in, children, ., three, case,...   \n",
       "2  [hyperplast, polyp, seen, at, sigmoidoscopi, a...   \n",
       "3  [subclavian, arteri, to, innomin, vein, fistul...   \n",
       "4  [effect, of, local, inhibit, of, gamma, -, ami...   \n",
       "\n",
       "                                             pos_tag  \\\n",
       "0  [NN, NN, NNS, CC, NN, NN, IN, JJ, NN, IN, JJ, ...   \n",
       "1  [NNP, NN, IN, NNS, ., CD, NNS, IN, JJ, NNS, IN...   \n",
       "2  [JJ, NNS, VBN, IN, NN, VBP, NNS, IN, JJ, NN, V...   \n",
       "3  [JJ, NN, TO, VB, JJ, NN, IN, NN, IN, DT, NN, N...   \n",
       "4  [NN, IN, JJ, NN, IN, NN, HYPH, JJ, NN, NN, IN,...   \n",
       "\n",
       "                      shallow_parsing  \n",
       "0                                  []  \n",
       "1                         [S. aureus]  \n",
       "2                                  []  \n",
       "3  [subclavian vein, subclavian vein]  \n",
       "4                       [pmol/250 nl]  "
      ],
      "text/html": [
       "<div>\n",
       "<style scoped>\n",
       "    .dataframe tbody tr th:only-of-type {\n",
       "        vertical-align: middle;\n",
       "    }\n",
       "\n",
       "    .dataframe tbody tr th {\n",
       "        vertical-align: top;\n",
       "    }\n",
       "\n",
       "    .dataframe thead th {\n",
       "        text-align: right;\n",
       "    }\n",
       "</style>\n",
       "<table border=\"1\" class=\"dataframe\">\n",
       "  <thead>\n",
       "    <tr style=\"text-align: right;\">\n",
       "      <th></th>\n",
       "      <th>condition</th>\n",
       "      <th>abstract</th>\n",
       "      <th>sentences</th>\n",
       "      <th>words</th>\n",
       "      <th>lemmatization</th>\n",
       "      <th>stemming</th>\n",
       "      <th>pos_tag</th>\n",
       "      <th>shallow_parsing</th>\n",
       "    </tr>\n",
       "  </thead>\n",
       "  <tbody>\n",
       "    <tr>\n",
       "      <th>0</th>\n",
       "      <td>4</td>\n",
       "      <td>Catheterization laboratory events and hospital...</td>\n",
       "      <td>[Catheterization laboratory events and hospita...</td>\n",
       "      <td>[Catheterization, laboratory, events, and, hos...</td>\n",
       "      <td>[catheterization, laboratory, event, and, hosp...</td>\n",
       "      <td>[catheter, laboratori, event, and, hospit, out...</td>\n",
       "      <td>[NN, NN, NNS, CC, NN, NN, IN, JJ, NN, IN, JJ, ...</td>\n",
       "      <td>[]</td>\n",
       "    </tr>\n",
       "    <tr>\n",
       "      <th>1</th>\n",
       "      <td>5</td>\n",
       "      <td>Renal abscess in children. Three cases of rena...</td>\n",
       "      <td>[Renal abscess in children., Three cases of re...</td>\n",
       "      <td>[Renal, abscess, in, children, ., Three, cases...</td>\n",
       "      <td>[Renal, abscess, in, child, ., three, case, of...</td>\n",
       "      <td>[renal, abscess, in, children, ., three, case,...</td>\n",
       "      <td>[NNP, NN, IN, NNS, ., CD, NNS, IN, JJ, NNS, IN...</td>\n",
       "      <td>[S. aureus]</td>\n",
       "    </tr>\n",
       "    <tr>\n",
       "      <th>2</th>\n",
       "      <td>2</td>\n",
       "      <td>Hyperplastic polyps seen at sigmoidoscopy are ...</td>\n",
       "      <td>[Hyperplastic polyps seen at sigmoidoscopy are...</td>\n",
       "      <td>[Hyperplastic, polyps, seen, at, sigmoidoscopy...</td>\n",
       "      <td>[hyperplastic, polyp, see, at, sigmoidoscopy, ...</td>\n",
       "      <td>[hyperplast, polyp, seen, at, sigmoidoscopi, a...</td>\n",
       "      <td>[JJ, NNS, VBN, IN, NN, VBP, NNS, IN, JJ, NN, V...</td>\n",
       "      <td>[]</td>\n",
       "    </tr>\n",
       "    <tr>\n",
       "      <th>3</th>\n",
       "      <td>5</td>\n",
       "      <td>Subclavian artery to innominate vein fistula a...</td>\n",
       "      <td>[Subclavian artery to innominate vein fistula ...</td>\n",
       "      <td>[Subclavian, artery, to, innominate, vein, fis...</td>\n",
       "      <td>[subclavian, artery, to, innominate, vein, fis...</td>\n",
       "      <td>[subclavian, arteri, to, innomin, vein, fistul...</td>\n",
       "      <td>[JJ, NN, TO, VB, JJ, NN, IN, NN, IN, DT, NN, N...</td>\n",
       "      <td>[subclavian vein, subclavian vein]</td>\n",
       "    </tr>\n",
       "    <tr>\n",
       "      <th>4</th>\n",
       "      <td>4</td>\n",
       "      <td>Effect of local inhibition of gamma-aminobutyr...</td>\n",
       "      <td>[Effect of local inhibition of gamma-aminobuty...</td>\n",
       "      <td>[Effect, of, local, inhibition, of, gamma, -, ...</td>\n",
       "      <td>[effect, of, local, inhibition, of, gamma, -, ...</td>\n",
       "      <td>[effect, of, local, inhibit, of, gamma, -, ami...</td>\n",
       "      <td>[NN, IN, JJ, NN, IN, NN, HYPH, JJ, NN, NN, IN,...</td>\n",
       "      <td>[pmol/250 nl]</td>\n",
       "    </tr>\n",
       "  </tbody>\n",
       "</table>\n",
       "</div>"
      ]
     },
     "execution_count": 34,
     "metadata": {},
     "output_type": "execute_result"
    }
   ],
   "execution_count": 34
  },
  {
   "metadata": {},
   "cell_type": "code",
   "outputs": [],
   "execution_count": null,
   "source": "",
   "id": "68cb0912fe0ceca6"
  }
 ],
 "metadata": {
  "kernelspec": {
   "display_name": "Python 3",
   "language": "python",
   "name": "python3"
  },
  "language_info": {
   "codemirror_mode": {
    "name": "ipython",
    "version": 2
   },
   "file_extension": ".py",
   "mimetype": "text/x-python",
   "name": "python",
   "nbconvert_exporter": "python",
   "pygments_lexer": "ipython2",
   "version": "2.7.6"
  }
 },
 "nbformat": 4,
 "nbformat_minor": 5
}
