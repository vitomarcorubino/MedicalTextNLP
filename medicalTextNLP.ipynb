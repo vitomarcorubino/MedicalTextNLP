{
 "cells": [
  {
   "metadata": {},
   "cell_type": "markdown",
   "source": [
    "# Medical Text\n",
    "\n",
    "Medical Text Dataset [https://www.kaggle.com/datasets/chaitanyakck/medical-text/data]"
   ],
   "id": "8a77807f92f26ee"
  },
  {
   "metadata": {
    "ExecuteTime": {
     "end_time": "2025-01-17T18:15:29.058231Z",
     "start_time": "2025-01-17T18:15:28.446632Z"
    }
   },
   "cell_type": "code",
   "source": [
    "import pandas as pd\n",
    "import nltk"
   ],
   "id": "82888b3b45f77be7",
   "outputs": [],
   "execution_count": 1
  },
  {
   "metadata": {
    "ExecuteTime": {
     "end_time": "2025-01-17T18:15:29.213045Z",
     "start_time": "2025-01-17T18:15:29.062375Z"
    }
   },
   "cell_type": "code",
   "source": "df = pd.read_csv('data/train.dat', sep=\"\\t\", header=None)",
   "id": "faca1ac861464132",
   "outputs": [],
   "execution_count": 2
  },
  {
   "metadata": {
    "ExecuteTime": {
     "end_time": "2025-01-17T18:15:29.383550Z",
     "start_time": "2025-01-17T18:15:29.369445Z"
    }
   },
   "cell_type": "code",
   "source": [
    "df.rename(columns={0:'condition', 1:'abstract'}, inplace=True)\n",
    "df.head()"
   ],
   "id": "135a9e3242a7d792",
   "outputs": [
    {
     "data": {
      "text/plain": [
       "   condition                                           abstract\n",
       "0          4  Catheterization laboratory events and hospital...\n",
       "1          5  Renal abscess in children. Three cases of rena...\n",
       "2          2  Hyperplastic polyps seen at sigmoidoscopy are ...\n",
       "3          5  Subclavian artery to innominate vein fistula a...\n",
       "4          4  Effect of local inhibition of gamma-aminobutyr..."
      ],
      "text/html": [
       "<div>\n",
       "<style scoped>\n",
       "    .dataframe tbody tr th:only-of-type {\n",
       "        vertical-align: middle;\n",
       "    }\n",
       "\n",
       "    .dataframe tbody tr th {\n",
       "        vertical-align: top;\n",
       "    }\n",
       "\n",
       "    .dataframe thead th {\n",
       "        text-align: right;\n",
       "    }\n",
       "</style>\n",
       "<table border=\"1\" class=\"dataframe\">\n",
       "  <thead>\n",
       "    <tr style=\"text-align: right;\">\n",
       "      <th></th>\n",
       "      <th>condition</th>\n",
       "      <th>abstract</th>\n",
       "    </tr>\n",
       "  </thead>\n",
       "  <tbody>\n",
       "    <tr>\n",
       "      <th>0</th>\n",
       "      <td>4</td>\n",
       "      <td>Catheterization laboratory events and hospital...</td>\n",
       "    </tr>\n",
       "    <tr>\n",
       "      <th>1</th>\n",
       "      <td>5</td>\n",
       "      <td>Renal abscess in children. Three cases of rena...</td>\n",
       "    </tr>\n",
       "    <tr>\n",
       "      <th>2</th>\n",
       "      <td>2</td>\n",
       "      <td>Hyperplastic polyps seen at sigmoidoscopy are ...</td>\n",
       "    </tr>\n",
       "    <tr>\n",
       "      <th>3</th>\n",
       "      <td>5</td>\n",
       "      <td>Subclavian artery to innominate vein fistula a...</td>\n",
       "    </tr>\n",
       "    <tr>\n",
       "      <th>4</th>\n",
       "      <td>4</td>\n",
       "      <td>Effect of local inhibition of gamma-aminobutyr...</td>\n",
       "    </tr>\n",
       "  </tbody>\n",
       "</table>\n",
       "</div>"
      ]
     },
     "execution_count": 3,
     "metadata": {},
     "output_type": "execute_result"
    }
   ],
   "execution_count": 3
  },
  {
   "metadata": {},
   "cell_type": "markdown",
   "source": "## Sentence splitting",
   "id": "d1957269af718fe9"
  },
  {
   "metadata": {
    "ExecuteTime": {
     "end_time": "2025-01-17T18:15:31.198926Z",
     "start_time": "2025-01-17T18:15:29.420206Z"
    }
   },
   "cell_type": "code",
   "source": [
    "# Split the text into sentences\n",
    "sentences = df.abstract.apply(nltk.sent_tokenize)"
   ],
   "id": "1e7ded392644ba7e",
   "outputs": [],
   "execution_count": 4
  },
  {
   "metadata": {
    "ExecuteTime": {
     "end_time": "2025-01-17T18:15:31.278173Z",
     "start_time": "2025-01-17T18:15:31.271555Z"
    }
   },
   "cell_type": "code",
   "source": "sentences[0] # Print the first record",
   "id": "c8f63eb911c59d60",
   "outputs": [
    {
     "data": {
      "text/plain": [
       "['Catheterization laboratory events and hospital outcome with direct angioplasty for acute myocardial infarction To assess the safety of direct infarct angioplasty without antecedent thrombolytic therapy, catheterization laboratory and hospital events were assessed in consecutively treated patients with infarctions involving the left anterior descending (n = 100 patients), right (n = 100), and circumflex (n = 50) coronary arteries.',\n",
       " 'The groups of patients were similar for age (left anterior descending coronary artery, 59 years; right coronary artery, 58 years; circumflex coronary artery, 62 years), patients with multivessel disease (left anterior descending coronary artery, 55%; right coronary artery, 55%; circumflex coronary artery, 64%), and patients with initial grade 0/1 antegrade flow (left anterior descending coronary artery, 79%; right coronary artery, 84%; circumflex coronary artery, 90%).',\n",
       " 'Cardiogenic shock was present in eight patients with infarction of the left anterior descending coronary artery, four with infarction of the right coronary artery, and four with infarction of the circumflex coronary artery.',\n",
       " 'Major catheterization laboratory events (cardioversion, cardiopulmonary resuscitation, dopamine or intra-aortic balloon pump support for hypotension, and urgent surgery) occurred in 10 patients with infarction of the left anterior descending coronary artery, eight with infarction of the right coronary artery, and four with infarction of the circumflex coronary artery (16 of 16 shock and six of 234 nonshock patients, p less than 0.001).',\n",
       " 'There was one in-laboratory death (shock patient with infarction of the left anterior descending coronary artery).']"
      ]
     },
     "execution_count": 5,
     "metadata": {},
     "output_type": "execute_result"
    }
   ],
   "execution_count": 5
  },
  {
   "metadata": {},
   "cell_type": "markdown",
   "source": "## Word Tokenization",
   "id": "f600e541bbfe2685"
  },
  {
   "metadata": {
    "ExecuteTime": {
     "end_time": "2025-01-17T18:15:40.991924Z",
     "start_time": "2025-01-17T18:15:31.319112Z"
    }
   },
   "cell_type": "code",
   "source": [
    "tokens = []\n",
    "for sentence in sentences:\n",
    "    words = [nltk.word_tokenize(sent) for sent in sentence]\n",
    "    tokens.append(words)\n",
    "df[\"token_abstract\"] = tokens # set tokenized sentences as df col to save progress"
   ],
   "id": "d24d8b1f845bf377",
   "outputs": [],
   "execution_count": 6
  },
  {
   "metadata": {
    "ExecuteTime": {
     "end_time": "2025-01-17T18:15:41.024749Z",
     "start_time": "2025-01-17T18:15:41.005002Z"
    }
   },
   "cell_type": "code",
   "source": "df.head()",
   "id": "549b792387063b7",
   "outputs": [
    {
     "data": {
      "text/plain": [
       "   condition                                           abstract  \\\n",
       "0          4  Catheterization laboratory events and hospital...   \n",
       "1          5  Renal abscess in children. Three cases of rena...   \n",
       "2          2  Hyperplastic polyps seen at sigmoidoscopy are ...   \n",
       "3          5  Subclavian artery to innominate vein fistula a...   \n",
       "4          4  Effect of local inhibition of gamma-aminobutyr...   \n",
       "\n",
       "                                      token_abstract  \n",
       "0  [[Catheterization, laboratory, events, and, ho...  \n",
       "1  [[Renal, abscess, in, children, .], [Three, ca...  \n",
       "2  [[Hyperplastic, polyps, seen, at, sigmoidoscop...  \n",
       "3  [[Subclavian, artery, to, innominate, vein, fi...  \n",
       "4  [[Effect, of, local, inhibition, of, gamma-ami...  "
      ],
      "text/html": [
       "<div>\n",
       "<style scoped>\n",
       "    .dataframe tbody tr th:only-of-type {\n",
       "        vertical-align: middle;\n",
       "    }\n",
       "\n",
       "    .dataframe tbody tr th {\n",
       "        vertical-align: top;\n",
       "    }\n",
       "\n",
       "    .dataframe thead th {\n",
       "        text-align: right;\n",
       "    }\n",
       "</style>\n",
       "<table border=\"1\" class=\"dataframe\">\n",
       "  <thead>\n",
       "    <tr style=\"text-align: right;\">\n",
       "      <th></th>\n",
       "      <th>condition</th>\n",
       "      <th>abstract</th>\n",
       "      <th>token_abstract</th>\n",
       "    </tr>\n",
       "  </thead>\n",
       "  <tbody>\n",
       "    <tr>\n",
       "      <th>0</th>\n",
       "      <td>4</td>\n",
       "      <td>Catheterization laboratory events and hospital...</td>\n",
       "      <td>[[Catheterization, laboratory, events, and, ho...</td>\n",
       "    </tr>\n",
       "    <tr>\n",
       "      <th>1</th>\n",
       "      <td>5</td>\n",
       "      <td>Renal abscess in children. Three cases of rena...</td>\n",
       "      <td>[[Renal, abscess, in, children, .], [Three, ca...</td>\n",
       "    </tr>\n",
       "    <tr>\n",
       "      <th>2</th>\n",
       "      <td>2</td>\n",
       "      <td>Hyperplastic polyps seen at sigmoidoscopy are ...</td>\n",
       "      <td>[[Hyperplastic, polyps, seen, at, sigmoidoscop...</td>\n",
       "    </tr>\n",
       "    <tr>\n",
       "      <th>3</th>\n",
       "      <td>5</td>\n",
       "      <td>Subclavian artery to innominate vein fistula a...</td>\n",
       "      <td>[[Subclavian, artery, to, innominate, vein, fi...</td>\n",
       "    </tr>\n",
       "    <tr>\n",
       "      <th>4</th>\n",
       "      <td>4</td>\n",
       "      <td>Effect of local inhibition of gamma-aminobutyr...</td>\n",
       "      <td>[[Effect, of, local, inhibition, of, gamma-ami...</td>\n",
       "    </tr>\n",
       "  </tbody>\n",
       "</table>\n",
       "</div>"
      ]
     },
     "execution_count": 7,
     "metadata": {},
     "output_type": "execute_result"
    }
   ],
   "execution_count": 7
  },
  {
   "metadata": {},
   "cell_type": "markdown",
   "source": "## Lemmatization",
   "id": "4c76d49e60a61acc"
  },
  {
   "metadata": {
    "ExecuteTime": {
     "end_time": "2025-01-17T18:15:52.455026Z",
     "start_time": "2025-01-17T18:15:41.070612Z"
    }
   },
   "cell_type": "code",
   "source": [
    "wnl = nltk.WordNetLemmatizer()\n",
    "\n",
    "lemm = []\n",
    "for record in df.token_abstract:\n",
    "    for word in record:\n",
    "        word = [wnl.lemmatize(t) for t in word] # update sentences into lemmatized"
   ],
   "id": "8e7e612aea728905",
   "outputs": [],
   "execution_count": 8
  },
  {
   "metadata": {
    "ExecuteTime": {
     "end_time": "2025-01-17T18:15:52.516343Z",
     "start_time": "2025-01-17T18:15:52.498842Z"
    }
   },
   "cell_type": "code",
   "source": "df.head()",
   "id": "fa7459d429e48ba4",
   "outputs": [
    {
     "data": {
      "text/plain": [
       "   condition                                           abstract  \\\n",
       "0          4  Catheterization laboratory events and hospital...   \n",
       "1          5  Renal abscess in children. Three cases of rena...   \n",
       "2          2  Hyperplastic polyps seen at sigmoidoscopy are ...   \n",
       "3          5  Subclavian artery to innominate vein fistula a...   \n",
       "4          4  Effect of local inhibition of gamma-aminobutyr...   \n",
       "\n",
       "                                      token_abstract  \n",
       "0  [[Catheterization, laboratory, events, and, ho...  \n",
       "1  [[Renal, abscess, in, children, .], [Three, ca...  \n",
       "2  [[Hyperplastic, polyps, seen, at, sigmoidoscop...  \n",
       "3  [[Subclavian, artery, to, innominate, vein, fi...  \n",
       "4  [[Effect, of, local, inhibition, of, gamma-ami...  "
      ],
      "text/html": [
       "<div>\n",
       "<style scoped>\n",
       "    .dataframe tbody tr th:only-of-type {\n",
       "        vertical-align: middle;\n",
       "    }\n",
       "\n",
       "    .dataframe tbody tr th {\n",
       "        vertical-align: top;\n",
       "    }\n",
       "\n",
       "    .dataframe thead th {\n",
       "        text-align: right;\n",
       "    }\n",
       "</style>\n",
       "<table border=\"1\" class=\"dataframe\">\n",
       "  <thead>\n",
       "    <tr style=\"text-align: right;\">\n",
       "      <th></th>\n",
       "      <th>condition</th>\n",
       "      <th>abstract</th>\n",
       "      <th>token_abstract</th>\n",
       "    </tr>\n",
       "  </thead>\n",
       "  <tbody>\n",
       "    <tr>\n",
       "      <th>0</th>\n",
       "      <td>4</td>\n",
       "      <td>Catheterization laboratory events and hospital...</td>\n",
       "      <td>[[Catheterization, laboratory, events, and, ho...</td>\n",
       "    </tr>\n",
       "    <tr>\n",
       "      <th>1</th>\n",
       "      <td>5</td>\n",
       "      <td>Renal abscess in children. Three cases of rena...</td>\n",
       "      <td>[[Renal, abscess, in, children, .], [Three, ca...</td>\n",
       "    </tr>\n",
       "    <tr>\n",
       "      <th>2</th>\n",
       "      <td>2</td>\n",
       "      <td>Hyperplastic polyps seen at sigmoidoscopy are ...</td>\n",
       "      <td>[[Hyperplastic, polyps, seen, at, sigmoidoscop...</td>\n",
       "    </tr>\n",
       "    <tr>\n",
       "      <th>3</th>\n",
       "      <td>5</td>\n",
       "      <td>Subclavian artery to innominate vein fistula a...</td>\n",
       "      <td>[[Subclavian, artery, to, innominate, vein, fi...</td>\n",
       "    </tr>\n",
       "    <tr>\n",
       "      <th>4</th>\n",
       "      <td>4</td>\n",
       "      <td>Effect of local inhibition of gamma-aminobutyr...</td>\n",
       "      <td>[[Effect, of, local, inhibition, of, gamma-ami...</td>\n",
       "    </tr>\n",
       "  </tbody>\n",
       "</table>\n",
       "</div>"
      ]
     },
     "execution_count": 9,
     "metadata": {},
     "output_type": "execute_result"
    }
   ],
   "execution_count": 9
  }
 ],
 "metadata": {
  "kernelspec": {
   "display_name": "Python 3",
   "language": "python",
   "name": "python3"
  },
  "language_info": {
   "codemirror_mode": {
    "name": "ipython",
    "version": 2
   },
   "file_extension": ".py",
   "mimetype": "text/x-python",
   "name": "python",
   "nbconvert_exporter": "python",
   "pygments_lexer": "ipython2",
   "version": "2.7.6"
  }
 },
 "nbformat": 4,
 "nbformat_minor": 5
}
