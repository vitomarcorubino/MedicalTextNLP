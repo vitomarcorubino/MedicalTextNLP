{
 "cells": [
  {
   "metadata": {},
   "cell_type": "markdown",
   "source": [
    "# Medical Text\n",
    "\n",
    "Medical Text Dataset [https://www.kaggle.com/datasets/chaitanyakck/medical-text/data]"
   ],
   "id": "8a77807f92f26ee"
  },
  {
   "metadata": {
    "ExecuteTime": {
     "end_time": "2025-01-17T14:08:47.574074Z",
     "start_time": "2025-01-17T14:08:40.653973Z"
    }
   },
   "cell_type": "code",
   "source": [
    "import pandas as pd\n",
    "import nltk"
   ],
   "id": "82888b3b45f77be7",
   "outputs": [],
   "execution_count": 2
  },
  {
   "metadata": {
    "ExecuteTime": {
     "end_time": "2025-01-17T14:08:47.703601Z",
     "start_time": "2025-01-17T14:08:47.604108Z"
    }
   },
   "cell_type": "code",
   "source": [
    "# Read the text file\n",
    "with open('data/test.dat', 'r') as file:\n",
    "    text = file.read()"
   ],
   "id": "fbc121e30a2defb3",
   "outputs": [],
   "execution_count": 3
  }
 ],
 "metadata": {
  "kernelspec": {
   "display_name": "Python 3",
   "language": "python",
   "name": "python3"
  },
  "language_info": {
   "codemirror_mode": {
    "name": "ipython",
    "version": 2
   },
   "file_extension": ".py",
   "mimetype": "text/x-python",
   "name": "python",
   "nbconvert_exporter": "python",
   "pygments_lexer": "ipython2",
   "version": "2.7.6"
  }
 },
 "nbformat": 4,
 "nbformat_minor": 5
}
