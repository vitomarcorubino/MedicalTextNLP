{
 "cells": [
  {
   "metadata": {},
   "cell_type": "markdown",
   "source": [
    "# Medical Text\n",
    "\n",
    "Medical Text Dataset [https://www.kaggle.com/datasets/chaitanyakck/medical-text/data]"
   ],
   "id": "8a77807f92f26ee"
  },
  {
   "metadata": {
    "ExecuteTime": {
     "end_time": "2025-01-17T14:08:47.574074Z",
     "start_time": "2025-01-17T14:08:40.653973Z"
    }
   },
   "cell_type": "code",
   "source": [
    "import pandas as pd\n",
    "import nltk"
   ],
   "id": "82888b3b45f77be7",
   "outputs": [],
   "execution_count": 2
  },
  {
   "metadata": {
    "ExecuteTime": {
     "end_time": "2025-01-17T14:18:20.901653Z",
     "start_time": "2025-01-17T14:18:20.783287Z"
    }
   },
   "cell_type": "code",
   "source": [
    "# Read the text file\n",
    "with open('data/test.dat', 'r') as file:\n",
    "    document = file.read()"
   ],
   "id": "fbc121e30a2defb3",
   "outputs": [],
   "execution_count": 7
  },
  {
   "metadata": {},
   "cell_type": "markdown",
   "source": "## Sentence splitting",
   "id": "d1957269af718fe9"
  },
  {
   "metadata": {
    "ExecuteTime": {
     "end_time": "2025-01-17T14:20:53.018715Z",
     "start_time": "2025-01-17T14:20:46.307315Z"
    }
   },
   "cell_type": "code",
   "source": [
    "# Split the text into sentences\n",
    "sentences = nltk.sent_tokenize(document)"
   ],
   "id": "1e7ded392644ba7e",
   "outputs": [],
   "execution_count": 12
  },
  {
   "metadata": {
    "ExecuteTime": {
     "end_time": "2025-01-17T14:21:41.168521Z",
     "start_time": "2025-01-17T14:21:41.152439Z"
    }
   },
   "cell_type": "code",
   "source": "print(sentences[:3]) # Print the first 3 sentences",
   "id": "c8f63eb911c59d60",
   "outputs": [
    {
     "name": "stdout",
     "output_type": "stream",
     "text": [
      "['Excision of limbal dermoids.', 'We reviewed the clinical files of 10 patients who had undergone excision of unilateral epibulbar limbal dermoids.', 'Preoperatively, all of the affected eyes had worse visual acuity (P less than .02) and more astigmatism (P less than .01) than the contralateral eyes.']\n"
     ]
    }
   ],
   "execution_count": 14
  },
  {
   "metadata": {},
   "cell_type": "markdown",
   "source": "## Word Tokenization",
   "id": "f600e541bbfe2685"
  },
  {
   "metadata": {
    "ExecuteTime": {
     "end_time": "2025-01-17T14:24:31.636027Z",
     "start_time": "2025-01-17T14:24:03.443525Z"
    }
   },
   "cell_type": "code",
   "source": "words = [nltk.word_tokenize(sentence) for sentence in sentences]",
   "id": "d24d8b1f845bf377",
   "outputs": [],
   "execution_count": 15
  },
  {
   "metadata": {
    "ExecuteTime": {
     "end_time": "2025-01-17T14:25:37.398735Z",
     "start_time": "2025-01-17T14:25:37.386048Z"
    }
   },
   "cell_type": "code",
   "source": [
    "print(words[:3]) # Print the words of the first 3 sentences\n",
    "print(words[0][:3]) # Print the first 3 words of the first sentence"
   ],
   "id": "66ac119f55841c73",
   "outputs": [
    {
     "name": "stdout",
     "output_type": "stream",
     "text": [
      "[['Excision', 'of', 'limbal', 'dermoids', '.'], ['We', 'reviewed', 'the', 'clinical', 'files', 'of', '10', 'patients', 'who', 'had', 'undergone', 'excision', 'of', 'unilateral', 'epibulbar', 'limbal', 'dermoids', '.'], ['Preoperatively', ',', 'all', 'of', 'the', 'affected', 'eyes', 'had', 'worse', 'visual', 'acuity', '(', 'P', 'less', 'than', '.02', ')', 'and', 'more', 'astigmatism', '(', 'P', 'less', 'than', '.01', ')', 'than', 'the', 'contralateral', 'eyes', '.']]\n",
      "['Excision', 'of', 'limbal']\n"
     ]
    }
   ],
   "execution_count": 17
  }
 ],
 "metadata": {
  "kernelspec": {
   "display_name": "Python 3",
   "language": "python",
   "name": "python3"
  },
  "language_info": {
   "codemirror_mode": {
    "name": "ipython",
    "version": 2
   },
   "file_extension": ".py",
   "mimetype": "text/x-python",
   "name": "python",
   "nbconvert_exporter": "python",
   "pygments_lexer": "ipython2",
   "version": "2.7.6"
  }
 },
 "nbformat": 4,
 "nbformat_minor": 5
}
