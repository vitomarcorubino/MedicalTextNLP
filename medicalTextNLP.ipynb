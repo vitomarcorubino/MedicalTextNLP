{
 "cells": [
  {
   "metadata": {},
   "cell_type": "markdown",
   "source": [
    "# Medical Text\n",
    "\n",
    "Medical Text Dataset [https://www.kaggle.com/datasets/chaitanyakck/medical-text/data]"
   ],
   "id": "184cb5764f8f1900"
  },
  {
   "metadata": {
    "ExecuteTime": {
     "end_time": "2025-01-18T14:33:05.839432Z",
     "start_time": "2025-01-18T14:33:05.830290Z"
    }
   },
   "cell_type": "code",
   "source": [
    "import pandas as pd\n",
    "import nltk"
   ],
   "id": "ba2209bac9d66d1f",
   "outputs": [],
   "execution_count": 94
  },
  {
   "metadata": {
    "ExecuteTime": {
     "end_time": "2025-01-18T14:33:06.084634Z",
     "start_time": "2025-01-18T14:33:05.892979Z"
    }
   },
   "cell_type": "code",
   "source": "df = pd.read_csv('data/train.dat', sep=\"\\t\", header=None)",
   "id": "4d87683dc6918253",
   "outputs": [],
   "execution_count": 95
  },
  {
   "metadata": {
    "ExecuteTime": {
     "end_time": "2025-01-18T14:33:06.112083Z",
     "start_time": "2025-01-18T14:33:06.097769Z"
    }
   },
   "cell_type": "code",
   "source": [
    "df.rename(columns={0:'condition', 1:'abstract'}, inplace=True)\n",
    "df.head()"
   ],
   "id": "7ce5c699a4df3930",
   "outputs": [
    {
     "data": {
      "text/plain": [
       "   condition                                           abstract\n",
       "0          4  Catheterization laboratory events and hospital...\n",
       "1          5  Renal abscess in children. Three cases of rena...\n",
       "2          2  Hyperplastic polyps seen at sigmoidoscopy are ...\n",
       "3          5  Subclavian artery to innominate vein fistula a...\n",
       "4          4  Effect of local inhibition of gamma-aminobutyr..."
      ],
      "text/html": [
       "<div>\n",
       "<style scoped>\n",
       "    .dataframe tbody tr th:only-of-type {\n",
       "        vertical-align: middle;\n",
       "    }\n",
       "\n",
       "    .dataframe tbody tr th {\n",
       "        vertical-align: top;\n",
       "    }\n",
       "\n",
       "    .dataframe thead th {\n",
       "        text-align: right;\n",
       "    }\n",
       "</style>\n",
       "<table border=\"1\" class=\"dataframe\">\n",
       "  <thead>\n",
       "    <tr style=\"text-align: right;\">\n",
       "      <th></th>\n",
       "      <th>condition</th>\n",
       "      <th>abstract</th>\n",
       "    </tr>\n",
       "  </thead>\n",
       "  <tbody>\n",
       "    <tr>\n",
       "      <th>0</th>\n",
       "      <td>4</td>\n",
       "      <td>Catheterization laboratory events and hospital...</td>\n",
       "    </tr>\n",
       "    <tr>\n",
       "      <th>1</th>\n",
       "      <td>5</td>\n",
       "      <td>Renal abscess in children. Three cases of rena...</td>\n",
       "    </tr>\n",
       "    <tr>\n",
       "      <th>2</th>\n",
       "      <td>2</td>\n",
       "      <td>Hyperplastic polyps seen at sigmoidoscopy are ...</td>\n",
       "    </tr>\n",
       "    <tr>\n",
       "      <th>3</th>\n",
       "      <td>5</td>\n",
       "      <td>Subclavian artery to innominate vein fistula a...</td>\n",
       "    </tr>\n",
       "    <tr>\n",
       "      <th>4</th>\n",
       "      <td>4</td>\n",
       "      <td>Effect of local inhibition of gamma-aminobutyr...</td>\n",
       "    </tr>\n",
       "  </tbody>\n",
       "</table>\n",
       "</div>"
      ]
     },
     "execution_count": 96,
     "metadata": {},
     "output_type": "execute_result"
    }
   ],
   "execution_count": 96
  },
  {
   "metadata": {
    "ExecuteTime": {
     "end_time": "2025-01-18T14:33:06.211781Z",
     "start_time": "2025-01-18T14:33:06.201403Z"
    }
   },
   "cell_type": "code",
   "source": "lexical_df = df.copy() # a df to compute lexical analysis on",
   "id": "7d579831b614305c",
   "outputs": [],
   "execution_count": 97
  },
  {
   "metadata": {},
   "cell_type": "markdown",
   "source": [
    "## Lexical Analysis\n",
    "Lexical analysis consists of the operations of:\n",
    "- Sentence Splitting\n",
    "- Tokenization\n",
    "- Stemming\n",
    "- Lemmatization\n",
    "- POS Tagging\n",
    "\n",
    "It focuses on the main components of a text (words), and aims to recognize them in relation to the context in which they are used, such as sentences or clauses."
   ],
   "id": "53c21c5eb1e7ff6c"
  },
  {
   "metadata": {},
   "cell_type": "markdown",
   "source": [
    "### Sentence Splitting\n",
    "The technique aims to identify the beginning and end of a textual fragment (sentence or clause) with informative content, even if simple.\n",
    "\n",
    "To achieve this, it uses orthographic features of words (e.g., uppercase initial letters) and delimiters (e.g., punctuation)."
   ],
   "id": "e22cb00504866840"
  },
  {
   "metadata": {
    "ExecuteTime": {
     "end_time": "2025-01-18T14:33:09.042267Z",
     "start_time": "2025-01-18T14:33:06.299229Z"
    }
   },
   "cell_type": "code",
   "source": [
    "# Split the text into sentences\n",
    "sentences = lexical_df['abstract'].apply(nltk.sent_tokenize)"
   ],
   "id": "f83a7c5a5f67327a",
   "outputs": [],
   "execution_count": 98
  },
  {
   "metadata": {
    "ExecuteTime": {
     "end_time": "2025-01-18T14:33:09.065036Z",
     "start_time": "2025-01-18T14:33:09.055721Z"
    }
   },
   "cell_type": "code",
   "source": "sentences[0][2] # Print the third sentence of the first record",
   "id": "8b6bff736d0c8153",
   "outputs": [
    {
     "data": {
      "text/plain": [
       "'Cardiogenic shock was present in eight patients with infarction of the left anterior descending coronary artery, four with infarction of the right coronary artery, and four with infarction of the circumflex coronary artery.'"
      ]
     },
     "execution_count": 99,
     "metadata": {},
     "output_type": "execute_result"
    }
   ],
   "execution_count": 99
  },
  {
   "metadata": {
    "ExecuteTime": {
     "end_time": "2025-01-18T14:33:09.121817Z",
     "start_time": "2025-01-18T14:33:09.112740Z"
    }
   },
   "cell_type": "code",
   "source": "lexical_df[\"sentences\"] = sentences # set sentences as df col to save progress",
   "id": "345bb4ab019ef7e6",
   "outputs": [],
   "execution_count": 100
  },
  {
   "metadata": {},
   "cell_type": "markdown",
   "source": [
    "### Word Tokenization\n",
    "The goal of tokenization is to pinpoint the starting and ending positions of each token, whether it’s a word, a number, or a combination of symbols.\n",
    "\n",
    "As with sentence splitting, the process relies on orthographic features (e.g., initial capital letters) and delimiters (e.g., punctuation)."
   ],
   "id": "c73b2b841dd316b5"
  },
  {
   "metadata": {
    "ExecuteTime": {
     "end_time": "2025-01-18T14:33:51.095511Z",
     "start_time": "2025-01-18T14:33:09.159973Z"
    }
   },
   "cell_type": "code",
   "source": [
    "tokens = []\n",
    "for record in sentences:\n",
    "    words = [nltk.word_tokenize(sentence) for sentence in record]\n",
    "    tokens.append(words)\n",
    "lexical_df[\"tokens\"] = tokens # set tokenized sentences as df col to save progress"
   ],
   "id": "edeaac4088a6f7fb",
   "outputs": [],
   "execution_count": 101
  },
  {
   "metadata": {
    "ExecuteTime": {
     "end_time": "2025-01-18T14:33:51.241828Z",
     "start_time": "2025-01-18T14:33:51.209083Z"
    }
   },
   "cell_type": "code",
   "source": "lexical_df.head()",
   "id": "acb37b4b7de3e7e6",
   "outputs": [
    {
     "data": {
      "text/plain": [
       "   condition                                           abstract  \\\n",
       "0          4  Catheterization laboratory events and hospital...   \n",
       "1          5  Renal abscess in children. Three cases of rena...   \n",
       "2          2  Hyperplastic polyps seen at sigmoidoscopy are ...   \n",
       "3          5  Subclavian artery to innominate vein fistula a...   \n",
       "4          4  Effect of local inhibition of gamma-aminobutyr...   \n",
       "\n",
       "                                           sentences  \\\n",
       "0  [Catheterization laboratory events and hospita...   \n",
       "1  [Renal abscess in children., Three cases of re...   \n",
       "2  [Hyperplastic polyps seen at sigmoidoscopy are...   \n",
       "3  [Subclavian artery to innominate vein fistula ...   \n",
       "4  [Effect of local inhibition of gamma-aminobuty...   \n",
       "\n",
       "                                              tokens  \n",
       "0  [[Catheterization, laboratory, events, and, ho...  \n",
       "1  [[Renal, abscess, in, children, .], [Three, ca...  \n",
       "2  [[Hyperplastic, polyps, seen, at, sigmoidoscop...  \n",
       "3  [[Subclavian, artery, to, innominate, vein, fi...  \n",
       "4  [[Effect, of, local, inhibition, of, gamma-ami...  "
      ],
      "text/html": [
       "<div>\n",
       "<style scoped>\n",
       "    .dataframe tbody tr th:only-of-type {\n",
       "        vertical-align: middle;\n",
       "    }\n",
       "\n",
       "    .dataframe tbody tr th {\n",
       "        vertical-align: top;\n",
       "    }\n",
       "\n",
       "    .dataframe thead th {\n",
       "        text-align: right;\n",
       "    }\n",
       "</style>\n",
       "<table border=\"1\" class=\"dataframe\">\n",
       "  <thead>\n",
       "    <tr style=\"text-align: right;\">\n",
       "      <th></th>\n",
       "      <th>condition</th>\n",
       "      <th>abstract</th>\n",
       "      <th>sentences</th>\n",
       "      <th>tokens</th>\n",
       "    </tr>\n",
       "  </thead>\n",
       "  <tbody>\n",
       "    <tr>\n",
       "      <th>0</th>\n",
       "      <td>4</td>\n",
       "      <td>Catheterization laboratory events and hospital...</td>\n",
       "      <td>[Catheterization laboratory events and hospita...</td>\n",
       "      <td>[[Catheterization, laboratory, events, and, ho...</td>\n",
       "    </tr>\n",
       "    <tr>\n",
       "      <th>1</th>\n",
       "      <td>5</td>\n",
       "      <td>Renal abscess in children. Three cases of rena...</td>\n",
       "      <td>[Renal abscess in children., Three cases of re...</td>\n",
       "      <td>[[Renal, abscess, in, children, .], [Three, ca...</td>\n",
       "    </tr>\n",
       "    <tr>\n",
       "      <th>2</th>\n",
       "      <td>2</td>\n",
       "      <td>Hyperplastic polyps seen at sigmoidoscopy are ...</td>\n",
       "      <td>[Hyperplastic polyps seen at sigmoidoscopy are...</td>\n",
       "      <td>[[Hyperplastic, polyps, seen, at, sigmoidoscop...</td>\n",
       "    </tr>\n",
       "    <tr>\n",
       "      <th>3</th>\n",
       "      <td>5</td>\n",
       "      <td>Subclavian artery to innominate vein fistula a...</td>\n",
       "      <td>[Subclavian artery to innominate vein fistula ...</td>\n",
       "      <td>[[Subclavian, artery, to, innominate, vein, fi...</td>\n",
       "    </tr>\n",
       "    <tr>\n",
       "      <th>4</th>\n",
       "      <td>4</td>\n",
       "      <td>Effect of local inhibition of gamma-aminobutyr...</td>\n",
       "      <td>[Effect of local inhibition of gamma-aminobuty...</td>\n",
       "      <td>[[Effect, of, local, inhibition, of, gamma-ami...</td>\n",
       "    </tr>\n",
       "  </tbody>\n",
       "</table>\n",
       "</div>"
      ]
     },
     "execution_count": 102,
     "metadata": {},
     "output_type": "execute_result"
    }
   ],
   "execution_count": 102
  },
  {
   "metadata": {},
   "cell_type": "markdown",
   "source": [
    "### Lemmatization\n",
    "Post-tokenization techniques address the morphological analysis of word-tokens.\n",
    "\n",
    "Lemmatization identifies the base form (lemma) of inflected words, preserving their meaning and grammatical category. For example, the token _liked_ maps to the lemma *like*.\n",
    "\n",
    "This process minimizes lexical variation by consolidating different forms of the same word into a unified representation."
   ],
   "id": "db6beacc0a08a8e5"
  },
  {
   "metadata": {
    "ExecuteTime": {
     "end_time": "2025-01-18T14:34:03.094211Z",
     "start_time": "2025-01-18T14:33:51.410787Z"
    }
   },
   "cell_type": "code",
   "source": [
    "wnl = nltk.WordNetLemmatizer()\n",
    "lemmatization = []\n",
    "for record in lexical_df['tokens']:\n",
    "    lemmatized_record = []\n",
    "    for words in record:\n",
    "        lemmatized_record.append([wnl.lemmatize(word) for word in words]) # update sentences into lemmatized\n",
    "    lemmatization.append(lemmatized_record)\n",
    "lexical_df[\"lemmatization\"] = lemmatization"
   ],
   "id": "6c962ddd88f10ad1",
   "outputs": [],
   "execution_count": 103
  },
  {
   "metadata": {
    "ExecuteTime": {
     "end_time": "2025-01-18T14:34:03.204323Z",
     "start_time": "2025-01-18T14:34:03.163865Z"
    }
   },
   "cell_type": "code",
   "source": "lexical_df.head()",
   "id": "7fcfdb21981da8d5",
   "outputs": [
    {
     "data": {
      "text/plain": [
       "   condition                                           abstract  \\\n",
       "0          4  Catheterization laboratory events and hospital...   \n",
       "1          5  Renal abscess in children. Three cases of rena...   \n",
       "2          2  Hyperplastic polyps seen at sigmoidoscopy are ...   \n",
       "3          5  Subclavian artery to innominate vein fistula a...   \n",
       "4          4  Effect of local inhibition of gamma-aminobutyr...   \n",
       "\n",
       "                                           sentences  \\\n",
       "0  [Catheterization laboratory events and hospita...   \n",
       "1  [Renal abscess in children., Three cases of re...   \n",
       "2  [Hyperplastic polyps seen at sigmoidoscopy are...   \n",
       "3  [Subclavian artery to innominate vein fistula ...   \n",
       "4  [Effect of local inhibition of gamma-aminobuty...   \n",
       "\n",
       "                                              tokens  \\\n",
       "0  [[Catheterization, laboratory, events, and, ho...   \n",
       "1  [[Renal, abscess, in, children, .], [Three, ca...   \n",
       "2  [[Hyperplastic, polyps, seen, at, sigmoidoscop...   \n",
       "3  [[Subclavian, artery, to, innominate, vein, fi...   \n",
       "4  [[Effect, of, local, inhibition, of, gamma-ami...   \n",
       "\n",
       "                                       lemmatization  \n",
       "0  [[Catheterization, laboratory, event, and, hos...  \n",
       "1  [[Renal, abscess, in, child, .], [Three, case,...  \n",
       "2  [[Hyperplastic, polyp, seen, at, sigmoidoscopy...  \n",
       "3  [[Subclavian, artery, to, innominate, vein, fi...  \n",
       "4  [[Effect, of, local, inhibition, of, gamma-ami...  "
      ],
      "text/html": [
       "<div>\n",
       "<style scoped>\n",
       "    .dataframe tbody tr th:only-of-type {\n",
       "        vertical-align: middle;\n",
       "    }\n",
       "\n",
       "    .dataframe tbody tr th {\n",
       "        vertical-align: top;\n",
       "    }\n",
       "\n",
       "    .dataframe thead th {\n",
       "        text-align: right;\n",
       "    }\n",
       "</style>\n",
       "<table border=\"1\" class=\"dataframe\">\n",
       "  <thead>\n",
       "    <tr style=\"text-align: right;\">\n",
       "      <th></th>\n",
       "      <th>condition</th>\n",
       "      <th>abstract</th>\n",
       "      <th>sentences</th>\n",
       "      <th>tokens</th>\n",
       "      <th>lemmatization</th>\n",
       "    </tr>\n",
       "  </thead>\n",
       "  <tbody>\n",
       "    <tr>\n",
       "      <th>0</th>\n",
       "      <td>4</td>\n",
       "      <td>Catheterization laboratory events and hospital...</td>\n",
       "      <td>[Catheterization laboratory events and hospita...</td>\n",
       "      <td>[[Catheterization, laboratory, events, and, ho...</td>\n",
       "      <td>[[Catheterization, laboratory, event, and, hos...</td>\n",
       "    </tr>\n",
       "    <tr>\n",
       "      <th>1</th>\n",
       "      <td>5</td>\n",
       "      <td>Renal abscess in children. Three cases of rena...</td>\n",
       "      <td>[Renal abscess in children., Three cases of re...</td>\n",
       "      <td>[[Renal, abscess, in, children, .], [Three, ca...</td>\n",
       "      <td>[[Renal, abscess, in, child, .], [Three, case,...</td>\n",
       "    </tr>\n",
       "    <tr>\n",
       "      <th>2</th>\n",
       "      <td>2</td>\n",
       "      <td>Hyperplastic polyps seen at sigmoidoscopy are ...</td>\n",
       "      <td>[Hyperplastic polyps seen at sigmoidoscopy are...</td>\n",
       "      <td>[[Hyperplastic, polyps, seen, at, sigmoidoscop...</td>\n",
       "      <td>[[Hyperplastic, polyp, seen, at, sigmoidoscopy...</td>\n",
       "    </tr>\n",
       "    <tr>\n",
       "      <th>3</th>\n",
       "      <td>5</td>\n",
       "      <td>Subclavian artery to innominate vein fistula a...</td>\n",
       "      <td>[Subclavian artery to innominate vein fistula ...</td>\n",
       "      <td>[[Subclavian, artery, to, innominate, vein, fi...</td>\n",
       "      <td>[[Subclavian, artery, to, innominate, vein, fi...</td>\n",
       "    </tr>\n",
       "    <tr>\n",
       "      <th>4</th>\n",
       "      <td>4</td>\n",
       "      <td>Effect of local inhibition of gamma-aminobutyr...</td>\n",
       "      <td>[Effect of local inhibition of gamma-aminobuty...</td>\n",
       "      <td>[[Effect, of, local, inhibition, of, gamma-ami...</td>\n",
       "      <td>[[Effect, of, local, inhibition, of, gamma-ami...</td>\n",
       "    </tr>\n",
       "  </tbody>\n",
       "</table>\n",
       "</div>"
      ]
     },
     "execution_count": 104,
     "metadata": {},
     "output_type": "execute_result"
    }
   ],
   "execution_count": 104
  },
  {
   "metadata": {},
   "cell_type": "markdown",
   "source": [
    "### Stemming\n",
    "Stemming, like lemmatization, processes inflected forms but reduces them to their root, which may not correspond to a dictionary word.\n",
    "Unlike lemmatization, it focuses on inflections that create new words and may change the grammatical class, such as *probable* (adjective) stemming to *probably* (adverb)."
   ],
   "id": "738644b7fb05ec7e"
  },
  {
   "metadata": {
    "ExecuteTime": {
     "end_time": "2025-01-18T14:34:43.012775Z",
     "start_time": "2025-01-18T14:34:03.363432Z"
    }
   },
   "cell_type": "code",
   "source": [
    "porterStemmer = nltk.PorterStemmer()\n",
    "stemming = []\n",
    "for record in lexical_df['tokens']:\n",
    "    stemmed_record = [] # stemmed sentences for each record\n",
    "    for words in record:\n",
    "        stemmed_record.append([porterStemmer.stem(word) for word in words]) # update sentences into stemmed\n",
    "    stemming.append(stemmed_record)\n",
    "\n",
    "lexical_df[\"stemming\"] = stemming"
   ],
   "id": "bff576e0003ff799",
   "outputs": [],
   "execution_count": 105
  },
  {
   "metadata": {
    "ExecuteTime": {
     "end_time": "2025-01-18T14:34:43.171398Z",
     "start_time": "2025-01-18T14:34:43.103224Z"
    }
   },
   "cell_type": "code",
   "source": "lexical_df.head()",
   "id": "bd845580a5efd0b5",
   "outputs": [
    {
     "data": {
      "text/plain": [
       "   condition                                           abstract  \\\n",
       "0          4  Catheterization laboratory events and hospital...   \n",
       "1          5  Renal abscess in children. Three cases of rena...   \n",
       "2          2  Hyperplastic polyps seen at sigmoidoscopy are ...   \n",
       "3          5  Subclavian artery to innominate vein fistula a...   \n",
       "4          4  Effect of local inhibition of gamma-aminobutyr...   \n",
       "\n",
       "                                           sentences  \\\n",
       "0  [Catheterization laboratory events and hospita...   \n",
       "1  [Renal abscess in children., Three cases of re...   \n",
       "2  [Hyperplastic polyps seen at sigmoidoscopy are...   \n",
       "3  [Subclavian artery to innominate vein fistula ...   \n",
       "4  [Effect of local inhibition of gamma-aminobuty...   \n",
       "\n",
       "                                              tokens  \\\n",
       "0  [[Catheterization, laboratory, events, and, ho...   \n",
       "1  [[Renal, abscess, in, children, .], [Three, ca...   \n",
       "2  [[Hyperplastic, polyps, seen, at, sigmoidoscop...   \n",
       "3  [[Subclavian, artery, to, innominate, vein, fi...   \n",
       "4  [[Effect, of, local, inhibition, of, gamma-ami...   \n",
       "\n",
       "                                       lemmatization  \\\n",
       "0  [[Catheterization, laboratory, event, and, hos...   \n",
       "1  [[Renal, abscess, in, child, .], [Three, case,...   \n",
       "2  [[Hyperplastic, polyp, seen, at, sigmoidoscopy...   \n",
       "3  [[Subclavian, artery, to, innominate, vein, fi...   \n",
       "4  [[Effect, of, local, inhibition, of, gamma-ami...   \n",
       "\n",
       "                                            stemming  \n",
       "0  [[catheter, laboratori, event, and, hospit, ou...  \n",
       "1  [[renal, abscess, in, children, .], [three, ca...  \n",
       "2  [[hyperplast, polyp, seen, at, sigmoidoscopi, ...  \n",
       "3  [[subclavian, arteri, to, innomin, vein, fistu...  \n",
       "4  [[effect, of, local, inhibit, of, gamma-aminob...  "
      ],
      "text/html": [
       "<div>\n",
       "<style scoped>\n",
       "    .dataframe tbody tr th:only-of-type {\n",
       "        vertical-align: middle;\n",
       "    }\n",
       "\n",
       "    .dataframe tbody tr th {\n",
       "        vertical-align: top;\n",
       "    }\n",
       "\n",
       "    .dataframe thead th {\n",
       "        text-align: right;\n",
       "    }\n",
       "</style>\n",
       "<table border=\"1\" class=\"dataframe\">\n",
       "  <thead>\n",
       "    <tr style=\"text-align: right;\">\n",
       "      <th></th>\n",
       "      <th>condition</th>\n",
       "      <th>abstract</th>\n",
       "      <th>sentences</th>\n",
       "      <th>tokens</th>\n",
       "      <th>lemmatization</th>\n",
       "      <th>stemming</th>\n",
       "    </tr>\n",
       "  </thead>\n",
       "  <tbody>\n",
       "    <tr>\n",
       "      <th>0</th>\n",
       "      <td>4</td>\n",
       "      <td>Catheterization laboratory events and hospital...</td>\n",
       "      <td>[Catheterization laboratory events and hospita...</td>\n",
       "      <td>[[Catheterization, laboratory, events, and, ho...</td>\n",
       "      <td>[[Catheterization, laboratory, event, and, hos...</td>\n",
       "      <td>[[catheter, laboratori, event, and, hospit, ou...</td>\n",
       "    </tr>\n",
       "    <tr>\n",
       "      <th>1</th>\n",
       "      <td>5</td>\n",
       "      <td>Renal abscess in children. Three cases of rena...</td>\n",
       "      <td>[Renal abscess in children., Three cases of re...</td>\n",
       "      <td>[[Renal, abscess, in, children, .], [Three, ca...</td>\n",
       "      <td>[[Renal, abscess, in, child, .], [Three, case,...</td>\n",
       "      <td>[[renal, abscess, in, children, .], [three, ca...</td>\n",
       "    </tr>\n",
       "    <tr>\n",
       "      <th>2</th>\n",
       "      <td>2</td>\n",
       "      <td>Hyperplastic polyps seen at sigmoidoscopy are ...</td>\n",
       "      <td>[Hyperplastic polyps seen at sigmoidoscopy are...</td>\n",
       "      <td>[[Hyperplastic, polyps, seen, at, sigmoidoscop...</td>\n",
       "      <td>[[Hyperplastic, polyp, seen, at, sigmoidoscopy...</td>\n",
       "      <td>[[hyperplast, polyp, seen, at, sigmoidoscopi, ...</td>\n",
       "    </tr>\n",
       "    <tr>\n",
       "      <th>3</th>\n",
       "      <td>5</td>\n",
       "      <td>Subclavian artery to innominate vein fistula a...</td>\n",
       "      <td>[Subclavian artery to innominate vein fistula ...</td>\n",
       "      <td>[[Subclavian, artery, to, innominate, vein, fi...</td>\n",
       "      <td>[[Subclavian, artery, to, innominate, vein, fi...</td>\n",
       "      <td>[[subclavian, arteri, to, innomin, vein, fistu...</td>\n",
       "    </tr>\n",
       "    <tr>\n",
       "      <th>4</th>\n",
       "      <td>4</td>\n",
       "      <td>Effect of local inhibition of gamma-aminobutyr...</td>\n",
       "      <td>[Effect of local inhibition of gamma-aminobuty...</td>\n",
       "      <td>[[Effect, of, local, inhibition, of, gamma-ami...</td>\n",
       "      <td>[[Effect, of, local, inhibition, of, gamma-ami...</td>\n",
       "      <td>[[effect, of, local, inhibit, of, gamma-aminob...</td>\n",
       "    </tr>\n",
       "  </tbody>\n",
       "</table>\n",
       "</div>"
      ]
     },
     "execution_count": 106,
     "metadata": {},
     "output_type": "execute_result"
    }
   ],
   "execution_count": 106
  },
  {
   "metadata": {},
   "cell_type": "markdown",
   "source": [
    "### POS tagging\n",
    "Part-of-speech (POS) tagging assigns a grammatical category to each token, such as noun, verb, or adjective."
   ],
   "id": "8ca05464e65ec1d4"
  },
  {
   "metadata": {
    "ExecuteTime": {
     "end_time": "2025-01-18T14:37:21.936644Z",
     "start_time": "2025-01-18T14:34:43.343228Z"
    }
   },
   "cell_type": "code",
   "source": [
    "pos = []\n",
    "for sentence in lexical_df['tokens']:\n",
    "    pos.append([nltk.pos_tag(token) for token in sentence])\n",
    "lexical_df[\"pos_tagging\"] = pos"
   ],
   "id": "96319b4ec76da025",
   "outputs": [],
   "execution_count": 107
  },
  {
   "metadata": {
    "ExecuteTime": {
     "end_time": "2025-01-18T14:37:22.340211Z",
     "start_time": "2025-01-18T14:37:22.093144Z"
    }
   },
   "cell_type": "code",
   "source": "lexical_df.head()",
   "id": "b1dcd09a4583c42b",
   "outputs": [
    {
     "data": {
      "text/plain": [
       "   condition                                           abstract  \\\n",
       "0          4  Catheterization laboratory events and hospital...   \n",
       "1          5  Renal abscess in children. Three cases of rena...   \n",
       "2          2  Hyperplastic polyps seen at sigmoidoscopy are ...   \n",
       "3          5  Subclavian artery to innominate vein fistula a...   \n",
       "4          4  Effect of local inhibition of gamma-aminobutyr...   \n",
       "\n",
       "                                           sentences  \\\n",
       "0  [Catheterization laboratory events and hospita...   \n",
       "1  [Renal abscess in children., Three cases of re...   \n",
       "2  [Hyperplastic polyps seen at sigmoidoscopy are...   \n",
       "3  [Subclavian artery to innominate vein fistula ...   \n",
       "4  [Effect of local inhibition of gamma-aminobuty...   \n",
       "\n",
       "                                              tokens  \\\n",
       "0  [[Catheterization, laboratory, events, and, ho...   \n",
       "1  [[Renal, abscess, in, children, .], [Three, ca...   \n",
       "2  [[Hyperplastic, polyps, seen, at, sigmoidoscop...   \n",
       "3  [[Subclavian, artery, to, innominate, vein, fi...   \n",
       "4  [[Effect, of, local, inhibition, of, gamma-ami...   \n",
       "\n",
       "                                       lemmatization  \\\n",
       "0  [[Catheterization, laboratory, event, and, hos...   \n",
       "1  [[Renal, abscess, in, child, .], [Three, case,...   \n",
       "2  [[Hyperplastic, polyp, seen, at, sigmoidoscopy...   \n",
       "3  [[Subclavian, artery, to, innominate, vein, fi...   \n",
       "4  [[Effect, of, local, inhibition, of, gamma-ami...   \n",
       "\n",
       "                                            stemming  \\\n",
       "0  [[catheter, laboratori, event, and, hospit, ou...   \n",
       "1  [[renal, abscess, in, children, .], [three, ca...   \n",
       "2  [[hyperplast, polyp, seen, at, sigmoidoscopi, ...   \n",
       "3  [[subclavian, arteri, to, innomin, vein, fistu...   \n",
       "4  [[effect, of, local, inhibit, of, gamma-aminob...   \n",
       "\n",
       "                                         pos_tagging  \n",
       "0  [[(Catheterization, NNP), (laboratory, NN), (e...  \n",
       "1  [[(Renal, JJ), (abscess, NN), (in, IN), (child...  \n",
       "2  [[(Hyperplastic, JJ), (polyps, NNS), (seen, VB...  \n",
       "3  [[(Subclavian, JJ), (artery, NN), (to, TO), (i...  \n",
       "4  [[(Effect, NNP), (of, IN), (local, JJ), (inhib...  "
      ],
      "text/html": [
       "<div>\n",
       "<style scoped>\n",
       "    .dataframe tbody tr th:only-of-type {\n",
       "        vertical-align: middle;\n",
       "    }\n",
       "\n",
       "    .dataframe tbody tr th {\n",
       "        vertical-align: top;\n",
       "    }\n",
       "\n",
       "    .dataframe thead th {\n",
       "        text-align: right;\n",
       "    }\n",
       "</style>\n",
       "<table border=\"1\" class=\"dataframe\">\n",
       "  <thead>\n",
       "    <tr style=\"text-align: right;\">\n",
       "      <th></th>\n",
       "      <th>condition</th>\n",
       "      <th>abstract</th>\n",
       "      <th>sentences</th>\n",
       "      <th>tokens</th>\n",
       "      <th>lemmatization</th>\n",
       "      <th>stemming</th>\n",
       "      <th>pos_tagging</th>\n",
       "    </tr>\n",
       "  </thead>\n",
       "  <tbody>\n",
       "    <tr>\n",
       "      <th>0</th>\n",
       "      <td>4</td>\n",
       "      <td>Catheterization laboratory events and hospital...</td>\n",
       "      <td>[Catheterization laboratory events and hospita...</td>\n",
       "      <td>[[Catheterization, laboratory, events, and, ho...</td>\n",
       "      <td>[[Catheterization, laboratory, event, and, hos...</td>\n",
       "      <td>[[catheter, laboratori, event, and, hospit, ou...</td>\n",
       "      <td>[[(Catheterization, NNP), (laboratory, NN), (e...</td>\n",
       "    </tr>\n",
       "    <tr>\n",
       "      <th>1</th>\n",
       "      <td>5</td>\n",
       "      <td>Renal abscess in children. Three cases of rena...</td>\n",
       "      <td>[Renal abscess in children., Three cases of re...</td>\n",
       "      <td>[[Renal, abscess, in, children, .], [Three, ca...</td>\n",
       "      <td>[[Renal, abscess, in, child, .], [Three, case,...</td>\n",
       "      <td>[[renal, abscess, in, children, .], [three, ca...</td>\n",
       "      <td>[[(Renal, JJ), (abscess, NN), (in, IN), (child...</td>\n",
       "    </tr>\n",
       "    <tr>\n",
       "      <th>2</th>\n",
       "      <td>2</td>\n",
       "      <td>Hyperplastic polyps seen at sigmoidoscopy are ...</td>\n",
       "      <td>[Hyperplastic polyps seen at sigmoidoscopy are...</td>\n",
       "      <td>[[Hyperplastic, polyps, seen, at, sigmoidoscop...</td>\n",
       "      <td>[[Hyperplastic, polyp, seen, at, sigmoidoscopy...</td>\n",
       "      <td>[[hyperplast, polyp, seen, at, sigmoidoscopi, ...</td>\n",
       "      <td>[[(Hyperplastic, JJ), (polyps, NNS), (seen, VB...</td>\n",
       "    </tr>\n",
       "    <tr>\n",
       "      <th>3</th>\n",
       "      <td>5</td>\n",
       "      <td>Subclavian artery to innominate vein fistula a...</td>\n",
       "      <td>[Subclavian artery to innominate vein fistula ...</td>\n",
       "      <td>[[Subclavian, artery, to, innominate, vein, fi...</td>\n",
       "      <td>[[Subclavian, artery, to, innominate, vein, fi...</td>\n",
       "      <td>[[subclavian, arteri, to, innomin, vein, fistu...</td>\n",
       "      <td>[[(Subclavian, JJ), (artery, NN), (to, TO), (i...</td>\n",
       "    </tr>\n",
       "    <tr>\n",
       "      <th>4</th>\n",
       "      <td>4</td>\n",
       "      <td>Effect of local inhibition of gamma-aminobutyr...</td>\n",
       "      <td>[Effect of local inhibition of gamma-aminobuty...</td>\n",
       "      <td>[[Effect, of, local, inhibition, of, gamma-ami...</td>\n",
       "      <td>[[Effect, of, local, inhibition, of, gamma-ami...</td>\n",
       "      <td>[[effect, of, local, inhibit, of, gamma-aminob...</td>\n",
       "      <td>[[(Effect, NNP), (of, IN), (local, JJ), (inhib...</td>\n",
       "    </tr>\n",
       "  </tbody>\n",
       "</table>\n",
       "</div>"
      ]
     },
     "execution_count": 108,
     "metadata": {},
     "output_type": "execute_result"
    }
   ],
   "execution_count": 108
  },
  {
   "metadata": {},
   "cell_type": "markdown",
   "source": [
    "### Stop-words Removal\n",
    "Stop-words are common words that do not carry specific meaning, such as articles, prepositions, and conjunctions.\n",
    "It is usually performed after lexical analysis to avoid inaccuracies in subsequent syntactic or semantic analyses."
   ],
   "id": "424ef3faf236f2"
  },
  {
   "metadata": {
    "ExecuteTime": {
     "end_time": "2025-01-18T15:47:48.164434Z",
     "start_time": "2025-01-18T15:47:35.062588Z"
    }
   },
   "cell_type": "code",
   "source": [
    "stopwords = nltk.corpus.stopwords.words('english')\n",
    "\n",
    "stopwords_removal = []\n",
    "\n",
    "for record in lexical_df['tokens']:\n",
    "    filtered_record = []\n",
    "    for sentence in record:\n",
    "        filtered_sentence = [word for word in sentence if word.lower() not in stopwords]\n",
    "        filtered_record.append(filtered_sentence)\n",
    "\n",
    "    stopwords_removal.append(filtered_record)\n",
    "\n",
    "lexical_df[\"stopwords_removal\"] = stopwords_removal"
   ],
   "id": "18e6779133a9c508",
   "outputs": [],
   "execution_count": 127
  },
  {
   "metadata": {
    "ExecuteTime": {
     "end_time": "2025-01-18T15:47:56.970575Z",
     "start_time": "2025-01-18T15:47:56.326711Z"
    }
   },
   "cell_type": "code",
   "source": "lexical_df.head()",
   "id": "d198665d2f2229e6",
   "outputs": [
    {
     "data": {
      "text/plain": [
       "   condition                                           abstract  \\\n",
       "0          4  Catheterization laboratory events and hospital...   \n",
       "1          5  Renal abscess in children. Three cases of rena...   \n",
       "2          2  Hyperplastic polyps seen at sigmoidoscopy are ...   \n",
       "3          5  Subclavian artery to innominate vein fistula a...   \n",
       "4          4  Effect of local inhibition of gamma-aminobutyr...   \n",
       "\n",
       "                                           sentences  \\\n",
       "0  [Catheterization laboratory events and hospita...   \n",
       "1  [Renal abscess in children., Three cases of re...   \n",
       "2  [Hyperplastic polyps seen at sigmoidoscopy are...   \n",
       "3  [Subclavian artery to innominate vein fistula ...   \n",
       "4  [Effect of local inhibition of gamma-aminobuty...   \n",
       "\n",
       "                                              tokens  \\\n",
       "0  [[Catheterization, laboratory, events, and, ho...   \n",
       "1  [[Renal, abscess, in, children, .], [Three, ca...   \n",
       "2  [[Hyperplastic, polyps, seen, at, sigmoidoscop...   \n",
       "3  [[Subclavian, artery, to, innominate, vein, fi...   \n",
       "4  [[Effect, of, local, inhibition, of, gamma-ami...   \n",
       "\n",
       "                                       lemmatization  \\\n",
       "0  [[Catheterization, laboratory, event, and, hos...   \n",
       "1  [[Renal, abscess, in, child, .], [Three, case,...   \n",
       "2  [[Hyperplastic, polyp, seen, at, sigmoidoscopy...   \n",
       "3  [[Subclavian, artery, to, innominate, vein, fi...   \n",
       "4  [[Effect, of, local, inhibition, of, gamma-ami...   \n",
       "\n",
       "                                            stemming  \\\n",
       "0  [[catheter, laboratori, event, and, hospit, ou...   \n",
       "1  [[renal, abscess, in, children, .], [three, ca...   \n",
       "2  [[hyperplast, polyp, seen, at, sigmoidoscopi, ...   \n",
       "3  [[subclavian, arteri, to, innomin, vein, fistu...   \n",
       "4  [[effect, of, local, inhibit, of, gamma-aminob...   \n",
       "\n",
       "                                         pos_tagging  \\\n",
       "0  [[(Catheterization, NNP), (laboratory, NN), (e...   \n",
       "1  [[(Renal, JJ), (abscess, NN), (in, IN), (child...   \n",
       "2  [[(Hyperplastic, JJ), (polyps, NNS), (seen, VB...   \n",
       "3  [[(Subclavian, JJ), (artery, NN), (to, TO), (i...   \n",
       "4  [[(Effect, NNP), (of, IN), (local, JJ), (inhib...   \n",
       "\n",
       "                                   stopwords_removal  \n",
       "0  [[Catheterization, laboratory, events, hospita...  \n",
       "1  [[Renal, abscess, children, .], [Three, cases,...  \n",
       "2  [[Hyperplastic, polyps, seen, sigmoidoscopy, m...  \n",
       "3  [[Subclavian, artery, innominate, vein, fistul...  \n",
       "4  [[Effect, local, inhibition, gamma-aminobutyri...  "
      ],
      "text/html": [
       "<div>\n",
       "<style scoped>\n",
       "    .dataframe tbody tr th:only-of-type {\n",
       "        vertical-align: middle;\n",
       "    }\n",
       "\n",
       "    .dataframe tbody tr th {\n",
       "        vertical-align: top;\n",
       "    }\n",
       "\n",
       "    .dataframe thead th {\n",
       "        text-align: right;\n",
       "    }\n",
       "</style>\n",
       "<table border=\"1\" class=\"dataframe\">\n",
       "  <thead>\n",
       "    <tr style=\"text-align: right;\">\n",
       "      <th></th>\n",
       "      <th>condition</th>\n",
       "      <th>abstract</th>\n",
       "      <th>sentences</th>\n",
       "      <th>tokens</th>\n",
       "      <th>lemmatization</th>\n",
       "      <th>stemming</th>\n",
       "      <th>pos_tagging</th>\n",
       "      <th>stopwords_removal</th>\n",
       "    </tr>\n",
       "  </thead>\n",
       "  <tbody>\n",
       "    <tr>\n",
       "      <th>0</th>\n",
       "      <td>4</td>\n",
       "      <td>Catheterization laboratory events and hospital...</td>\n",
       "      <td>[Catheterization laboratory events and hospita...</td>\n",
       "      <td>[[Catheterization, laboratory, events, and, ho...</td>\n",
       "      <td>[[Catheterization, laboratory, event, and, hos...</td>\n",
       "      <td>[[catheter, laboratori, event, and, hospit, ou...</td>\n",
       "      <td>[[(Catheterization, NNP), (laboratory, NN), (e...</td>\n",
       "      <td>[[Catheterization, laboratory, events, hospita...</td>\n",
       "    </tr>\n",
       "    <tr>\n",
       "      <th>1</th>\n",
       "      <td>5</td>\n",
       "      <td>Renal abscess in children. Three cases of rena...</td>\n",
       "      <td>[Renal abscess in children., Three cases of re...</td>\n",
       "      <td>[[Renal, abscess, in, children, .], [Three, ca...</td>\n",
       "      <td>[[Renal, abscess, in, child, .], [Three, case,...</td>\n",
       "      <td>[[renal, abscess, in, children, .], [three, ca...</td>\n",
       "      <td>[[(Renal, JJ), (abscess, NN), (in, IN), (child...</td>\n",
       "      <td>[[Renal, abscess, children, .], [Three, cases,...</td>\n",
       "    </tr>\n",
       "    <tr>\n",
       "      <th>2</th>\n",
       "      <td>2</td>\n",
       "      <td>Hyperplastic polyps seen at sigmoidoscopy are ...</td>\n",
       "      <td>[Hyperplastic polyps seen at sigmoidoscopy are...</td>\n",
       "      <td>[[Hyperplastic, polyps, seen, at, sigmoidoscop...</td>\n",
       "      <td>[[Hyperplastic, polyp, seen, at, sigmoidoscopy...</td>\n",
       "      <td>[[hyperplast, polyp, seen, at, sigmoidoscopi, ...</td>\n",
       "      <td>[[(Hyperplastic, JJ), (polyps, NNS), (seen, VB...</td>\n",
       "      <td>[[Hyperplastic, polyps, seen, sigmoidoscopy, m...</td>\n",
       "    </tr>\n",
       "    <tr>\n",
       "      <th>3</th>\n",
       "      <td>5</td>\n",
       "      <td>Subclavian artery to innominate vein fistula a...</td>\n",
       "      <td>[Subclavian artery to innominate vein fistula ...</td>\n",
       "      <td>[[Subclavian, artery, to, innominate, vein, fi...</td>\n",
       "      <td>[[Subclavian, artery, to, innominate, vein, fi...</td>\n",
       "      <td>[[subclavian, arteri, to, innomin, vein, fistu...</td>\n",
       "      <td>[[(Subclavian, JJ), (artery, NN), (to, TO), (i...</td>\n",
       "      <td>[[Subclavian, artery, innominate, vein, fistul...</td>\n",
       "    </tr>\n",
       "    <tr>\n",
       "      <th>4</th>\n",
       "      <td>4</td>\n",
       "      <td>Effect of local inhibition of gamma-aminobutyr...</td>\n",
       "      <td>[Effect of local inhibition of gamma-aminobuty...</td>\n",
       "      <td>[[Effect, of, local, inhibition, of, gamma-ami...</td>\n",
       "      <td>[[Effect, of, local, inhibition, of, gamma-ami...</td>\n",
       "      <td>[[effect, of, local, inhibit, of, gamma-aminob...</td>\n",
       "      <td>[[(Effect, NNP), (of, IN), (local, JJ), (inhib...</td>\n",
       "      <td>[[Effect, local, inhibition, gamma-aminobutyri...</td>\n",
       "    </tr>\n",
       "  </tbody>\n",
       "</table>\n",
       "</div>"
      ]
     },
     "execution_count": 128,
     "metadata": {},
     "output_type": "execute_result"
    }
   ],
   "execution_count": 128
  },
  {
   "metadata": {},
   "cell_type": "markdown",
   "source": [
    "# Syntax Analysis\n",
    "Syntax analysis consists of:\n",
    "- Shallow Parsing\n",
    "- Deep Parsing"
   ],
   "id": "d1648fba0f8ea9de"
  },
  {
   "metadata": {},
   "cell_type": "markdown",
   "source": [
    "### Shallow Parsing\n",
    "Syntactic parsing extends chunking by generating a parse tree. This tree organizes POS-tagging results as leaf nodes and syntactic structures (often chunks) as intermediate nodes, connected hierarchically without representing specific relationships.\n"
   ],
   "id": "f55068d01eed941f"
  },
  {
   "metadata": {
    "ExecuteTime": {
     "end_time": "2025-01-18T14:37:22.528670Z",
     "start_time": "2025-01-18T14:37:22.438210Z"
    }
   },
   "cell_type": "code",
   "source": "syntax_df = df.copy() # a df to compute syntax analysis on",
   "id": "8c96d3415db777e8",
   "outputs": [],
   "execution_count": 109
  },
  {
   "metadata": {
    "ExecuteTime": {
     "end_time": "2025-01-18T14:45:53.409166Z",
     "start_time": "2025-01-18T14:45:15.160852Z"
    }
   },
   "cell_type": "code",
   "source": [
    "# Define the grammar and the chunk parser\n",
    "grammar = \"NP: {<NNP><NNP>}\"\n",
    "cp = nltk.RegexpParser(grammar) # chunk parser\n",
    "\n",
    "# Apply chunking to each record\n",
    "chunking = []\n",
    "for record in lexical_df['pos_tagging']:\n",
    "    chunked_record = [cp.parse(sentence) for sentence in record]\n",
    "\n",
    "    chunking.append(chunked_record)\n",
    "\n",
    "# Save the chunking results into the dataframe\n",
    "syntax_df[\"chunking\"] = chunking"
   ],
   "id": "456ee489004aa8d9",
   "outputs": [],
   "execution_count": 121
  },
  {
   "metadata": {
    "ExecuteTime": {
     "end_time": "2025-01-18T14:45:53.938822Z",
     "start_time": "2025-01-18T14:45:53.715841Z"
    }
   },
   "cell_type": "code",
   "source": [
    "# Display the dataframe\n",
    "syntax_df.head()"
   ],
   "id": "45ac6987f936ae77",
   "outputs": [
    {
     "data": {
      "text/plain": [
       "   condition                                           abstract  \\\n",
       "0          4  Catheterization laboratory events and hospital...   \n",
       "1          5  Renal abscess in children. Three cases of rena...   \n",
       "2          2  Hyperplastic polyps seen at sigmoidoscopy are ...   \n",
       "3          5  Subclavian artery to innominate vein fistula a...   \n",
       "4          4  Effect of local inhibition of gamma-aminobutyr...   \n",
       "\n",
       "                                            chunking  \n",
       "0  [[(Catheterization, NNP), (laboratory, NN), (e...  \n",
       "1  [[(Renal, JJ), (abscess, NN), (in, IN), (child...  \n",
       "2  [[(Hyperplastic, JJ), (polyps, NNS), (seen, VB...  \n",
       "3  [[(Subclavian, JJ), (artery, NN), (to, TO), (i...  \n",
       "4  [[(Effect, NNP), (of, IN), (local, JJ), (inhib...  "
      ],
      "text/html": [
       "<div>\n",
       "<style scoped>\n",
       "    .dataframe tbody tr th:only-of-type {\n",
       "        vertical-align: middle;\n",
       "    }\n",
       "\n",
       "    .dataframe tbody tr th {\n",
       "        vertical-align: top;\n",
       "    }\n",
       "\n",
       "    .dataframe thead th {\n",
       "        text-align: right;\n",
       "    }\n",
       "</style>\n",
       "<table border=\"1\" class=\"dataframe\">\n",
       "  <thead>\n",
       "    <tr style=\"text-align: right;\">\n",
       "      <th></th>\n",
       "      <th>condition</th>\n",
       "      <th>abstract</th>\n",
       "      <th>chunking</th>\n",
       "    </tr>\n",
       "  </thead>\n",
       "  <tbody>\n",
       "    <tr>\n",
       "      <th>0</th>\n",
       "      <td>4</td>\n",
       "      <td>Catheterization laboratory events and hospital...</td>\n",
       "      <td>[[(Catheterization, NNP), (laboratory, NN), (e...</td>\n",
       "    </tr>\n",
       "    <tr>\n",
       "      <th>1</th>\n",
       "      <td>5</td>\n",
       "      <td>Renal abscess in children. Three cases of rena...</td>\n",
       "      <td>[[(Renal, JJ), (abscess, NN), (in, IN), (child...</td>\n",
       "    </tr>\n",
       "    <tr>\n",
       "      <th>2</th>\n",
       "      <td>2</td>\n",
       "      <td>Hyperplastic polyps seen at sigmoidoscopy are ...</td>\n",
       "      <td>[[(Hyperplastic, JJ), (polyps, NNS), (seen, VB...</td>\n",
       "    </tr>\n",
       "    <tr>\n",
       "      <th>3</th>\n",
       "      <td>5</td>\n",
       "      <td>Subclavian artery to innominate vein fistula a...</td>\n",
       "      <td>[[(Subclavian, JJ), (artery, NN), (to, TO), (i...</td>\n",
       "    </tr>\n",
       "    <tr>\n",
       "      <th>4</th>\n",
       "      <td>4</td>\n",
       "      <td>Effect of local inhibition of gamma-aminobutyr...</td>\n",
       "      <td>[[(Effect, NNP), (of, IN), (local, JJ), (inhib...</td>\n",
       "    </tr>\n",
       "  </tbody>\n",
       "</table>\n",
       "</div>"
      ]
     },
     "execution_count": 122,
     "metadata": {},
     "output_type": "execute_result"
    }
   ],
   "execution_count": 122
  },
  {
   "metadata": {
    "ExecuteTime": {
     "end_time": "2025-01-18T14:47:51.884296Z",
     "start_time": "2025-01-18T14:47:51.837613Z"
    }
   },
   "cell_type": "code",
   "source": [
    "# Display the chunking result for the first record\n",
    "print(syntax_df['chunking'][0][4])\n",
    "syntax_df['chunking'][0][4]"
   ],
   "id": "c7beac20117ac85b",
   "outputs": [
    {
     "name": "stdout",
     "output_type": "stream",
     "text": [
      "(S\n",
      "  There/EX\n",
      "  was/VBD\n",
      "  one/CD\n",
      "  in-laboratory/JJ\n",
      "  death/NN\n",
      "  (/(\n",
      "  shock/JJ\n",
      "  patient/NN\n",
      "  with/IN\n",
      "  infarction/NN\n",
      "  of/IN\n",
      "  the/DT\n",
      "  left/JJ\n",
      "  anterior/JJ\n",
      "  descending/VBG\n",
      "  coronary/JJ\n",
      "  artery/NN\n",
      "  )/)\n",
      "  ./.)\n"
     ]
    },
    {
     "data": {
      "text/plain": [
       "Tree('S', [('There', 'EX'), ('was', 'VBD'), ('one', 'CD'), ('in-laboratory', 'JJ'), ('death', 'NN'), ('(', '('), ('shock', 'JJ'), ('patient', 'NN'), ('with', 'IN'), ('infarction', 'NN'), ('of', 'IN'), ('the', 'DT'), ('left', 'JJ'), ('anterior', 'JJ'), ('descending', 'VBG'), ('coronary', 'JJ'), ('artery', 'NN'), (')', ')'), ('.', '.')])"
      ],
      "image/svg+xml": "<svg baseProfile=\"full\" height=\"120px\" preserveAspectRatio=\"xMidYMid meet\" style=\"font-family: times, serif; font-weight: normal; font-style: normal; font-size: 16px\" version=\"1.1\" viewBox=\"0,0,1096.0,120.0\" width=\"1096px\" xmlns=\"http://www.w3.org/2000/svg\" xmlns:ev=\"http://www.w3.org/2001/xml-events\" xmlns:xlink=\"http://www.w3.org/1999/xlink\"><defs /><svg width=\"100%\" x=\"0\" y=\"0px\"><defs /><text text-anchor=\"middle\" x=\"50%\" y=\"16px\">S</text></svg><svg width=\"5.10949%\" x=\"0%\" y=\"48px\"><defs /><svg width=\"100%\" x=\"0\" y=\"0px\"><defs /><text text-anchor=\"middle\" x=\"50%\" y=\"16px\">There</text></svg><svg width=\"100%\" x=\"0%\" y=\"48px\"><defs /><svg width=\"100%\" x=\"0\" y=\"0px\"><defs /><text text-anchor=\"middle\" x=\"50%\" y=\"16px\">EX</text></svg></svg><line stroke=\"black\" x1=\"50%\" x2=\"50%\" y1=\"20px\" y2=\"48px\" /></svg><line stroke=\"black\" x1=\"50%\" x2=\"2.55474%\" y1=\"20px\" y2=\"48px\" /><svg width=\"3.64964%\" x=\"5.10949%\" y=\"48px\"><defs /><svg width=\"100%\" x=\"0\" y=\"0px\"><defs /><text text-anchor=\"middle\" x=\"50%\" y=\"16px\">was</text></svg><svg width=\"100%\" x=\"0%\" y=\"48px\"><defs /><svg width=\"100%\" x=\"0\" y=\"0px\"><defs /><text text-anchor=\"middle\" x=\"50%\" y=\"16px\">VBD</text></svg></svg><line stroke=\"black\" x1=\"50%\" x2=\"50%\" y1=\"20px\" y2=\"48px\" /></svg><line stroke=\"black\" x1=\"50%\" x2=\"6.93431%\" y1=\"20px\" y2=\"48px\" /><svg width=\"3.64964%\" x=\"8.75912%\" y=\"48px\"><defs /><svg width=\"100%\" x=\"0\" y=\"0px\"><defs /><text text-anchor=\"middle\" x=\"50%\" y=\"16px\">one</text></svg><svg width=\"100%\" x=\"0%\" y=\"48px\"><defs /><svg width=\"100%\" x=\"0\" y=\"0px\"><defs /><text text-anchor=\"middle\" x=\"50%\" y=\"16px\">CD</text></svg></svg><line stroke=\"black\" x1=\"50%\" x2=\"50%\" y1=\"20px\" y2=\"48px\" /></svg><line stroke=\"black\" x1=\"50%\" x2=\"10.5839%\" y1=\"20px\" y2=\"48px\" /><svg width=\"10.9489%\" x=\"12.4088%\" y=\"48px\"><defs /><svg width=\"100%\" x=\"0\" y=\"0px\"><defs /><text text-anchor=\"middle\" x=\"50%\" y=\"16px\">in-laboratory</text></svg><svg width=\"100%\" x=\"0%\" y=\"48px\"><defs /><svg width=\"100%\" x=\"0\" y=\"0px\"><defs /><text text-anchor=\"middle\" x=\"50%\" y=\"16px\">JJ</text></svg></svg><line stroke=\"black\" x1=\"50%\" x2=\"50%\" y1=\"20px\" y2=\"48px\" /></svg><line stroke=\"black\" x1=\"50%\" x2=\"17.8832%\" y1=\"20px\" y2=\"48px\" /><svg width=\"5.10949%\" x=\"23.3577%\" y=\"48px\"><defs /><svg width=\"100%\" x=\"0\" y=\"0px\"><defs /><text text-anchor=\"middle\" x=\"50%\" y=\"16px\">death</text></svg><svg width=\"100%\" x=\"0%\" y=\"48px\"><defs /><svg width=\"100%\" x=\"0\" y=\"0px\"><defs /><text text-anchor=\"middle\" x=\"50%\" y=\"16px\">NN</text></svg></svg><line stroke=\"black\" x1=\"50%\" x2=\"50%\" y1=\"20px\" y2=\"48px\" /></svg><line stroke=\"black\" x1=\"50%\" x2=\"25.9124%\" y1=\"20px\" y2=\"48px\" /><svg width=\"2.18978%\" x=\"28.4672%\" y=\"48px\"><defs /><svg width=\"100%\" x=\"0\" y=\"0px\"><defs /><text text-anchor=\"middle\" x=\"50%\" y=\"16px\">(</text></svg><svg width=\"100%\" x=\"0%\" y=\"48px\"><defs /><svg width=\"100%\" x=\"0\" y=\"0px\"><defs /><text text-anchor=\"middle\" x=\"50%\" y=\"16px\">(</text></svg></svg><line stroke=\"black\" x1=\"50%\" x2=\"50%\" y1=\"20px\" y2=\"48px\" /></svg><line stroke=\"black\" x1=\"50%\" x2=\"29.562%\" y1=\"20px\" y2=\"48px\" /><svg width=\"5.10949%\" x=\"30.6569%\" y=\"48px\"><defs /><svg width=\"100%\" x=\"0\" y=\"0px\"><defs /><text text-anchor=\"middle\" x=\"50%\" y=\"16px\">shock</text></svg><svg width=\"100%\" x=\"0%\" y=\"48px\"><defs /><svg width=\"100%\" x=\"0\" y=\"0px\"><defs /><text text-anchor=\"middle\" x=\"50%\" y=\"16px\">JJ</text></svg></svg><line stroke=\"black\" x1=\"50%\" x2=\"50%\" y1=\"20px\" y2=\"48px\" /></svg><line stroke=\"black\" x1=\"50%\" x2=\"33.2117%\" y1=\"20px\" y2=\"48px\" /><svg width=\"6.56934%\" x=\"35.7664%\" y=\"48px\"><defs /><svg width=\"100%\" x=\"0\" y=\"0px\"><defs /><text text-anchor=\"middle\" x=\"50%\" y=\"16px\">patient</text></svg><svg width=\"100%\" x=\"0%\" y=\"48px\"><defs /><svg width=\"100%\" x=\"0\" y=\"0px\"><defs /><text text-anchor=\"middle\" x=\"50%\" y=\"16px\">NN</text></svg></svg><line stroke=\"black\" x1=\"50%\" x2=\"50%\" y1=\"20px\" y2=\"48px\" /></svg><line stroke=\"black\" x1=\"50%\" x2=\"39.0511%\" y1=\"20px\" y2=\"48px\" /><svg width=\"4.37956%\" x=\"42.3358%\" y=\"48px\"><defs /><svg width=\"100%\" x=\"0\" y=\"0px\"><defs /><text text-anchor=\"middle\" x=\"50%\" y=\"16px\">with</text></svg><svg width=\"100%\" x=\"0%\" y=\"48px\"><defs /><svg width=\"100%\" x=\"0\" y=\"0px\"><defs /><text text-anchor=\"middle\" x=\"50%\" y=\"16px\">IN</text></svg></svg><line stroke=\"black\" x1=\"50%\" x2=\"50%\" y1=\"20px\" y2=\"48px\" /></svg><line stroke=\"black\" x1=\"50%\" x2=\"44.5255%\" y1=\"20px\" y2=\"48px\" /><svg width=\"8.75912%\" x=\"46.7153%\" y=\"48px\"><defs /><svg width=\"100%\" x=\"0\" y=\"0px\"><defs /><text text-anchor=\"middle\" x=\"50%\" y=\"16px\">infarction</text></svg><svg width=\"100%\" x=\"0%\" y=\"48px\"><defs /><svg width=\"100%\" x=\"0\" y=\"0px\"><defs /><text text-anchor=\"middle\" x=\"50%\" y=\"16px\">NN</text></svg></svg><line stroke=\"black\" x1=\"50%\" x2=\"50%\" y1=\"20px\" y2=\"48px\" /></svg><line stroke=\"black\" x1=\"50%\" x2=\"51.0949%\" y1=\"20px\" y2=\"48px\" /><svg width=\"2.91971%\" x=\"55.4745%\" y=\"48px\"><defs /><svg width=\"100%\" x=\"0\" y=\"0px\"><defs /><text text-anchor=\"middle\" x=\"50%\" y=\"16px\">of</text></svg><svg width=\"100%\" x=\"0%\" y=\"48px\"><defs /><svg width=\"100%\" x=\"0\" y=\"0px\"><defs /><text text-anchor=\"middle\" x=\"50%\" y=\"16px\">IN</text></svg></svg><line stroke=\"black\" x1=\"50%\" x2=\"50%\" y1=\"20px\" y2=\"48px\" /></svg><line stroke=\"black\" x1=\"50%\" x2=\"56.9343%\" y1=\"20px\" y2=\"48px\" /><svg width=\"3.64964%\" x=\"58.3942%\" y=\"48px\"><defs /><svg width=\"100%\" x=\"0\" y=\"0px\"><defs /><text text-anchor=\"middle\" x=\"50%\" y=\"16px\">the</text></svg><svg width=\"100%\" x=\"0%\" y=\"48px\"><defs /><svg width=\"100%\" x=\"0\" y=\"0px\"><defs /><text text-anchor=\"middle\" x=\"50%\" y=\"16px\">DT</text></svg></svg><line stroke=\"black\" x1=\"50%\" x2=\"50%\" y1=\"20px\" y2=\"48px\" /></svg><line stroke=\"black\" x1=\"50%\" x2=\"60.219%\" y1=\"20px\" y2=\"48px\" /><svg width=\"4.37956%\" x=\"62.0438%\" y=\"48px\"><defs /><svg width=\"100%\" x=\"0\" y=\"0px\"><defs /><text text-anchor=\"middle\" x=\"50%\" y=\"16px\">left</text></svg><svg width=\"100%\" x=\"0%\" y=\"48px\"><defs /><svg width=\"100%\" x=\"0\" y=\"0px\"><defs /><text text-anchor=\"middle\" x=\"50%\" y=\"16px\">JJ</text></svg></svg><line stroke=\"black\" x1=\"50%\" x2=\"50%\" y1=\"20px\" y2=\"48px\" /></svg><line stroke=\"black\" x1=\"50%\" x2=\"64.2336%\" y1=\"20px\" y2=\"48px\" /><svg width=\"7.29927%\" x=\"66.4234%\" y=\"48px\"><defs /><svg width=\"100%\" x=\"0\" y=\"0px\"><defs /><text text-anchor=\"middle\" x=\"50%\" y=\"16px\">anterior</text></svg><svg width=\"100%\" x=\"0%\" y=\"48px\"><defs /><svg width=\"100%\" x=\"0\" y=\"0px\"><defs /><text text-anchor=\"middle\" x=\"50%\" y=\"16px\">JJ</text></svg></svg><line stroke=\"black\" x1=\"50%\" x2=\"50%\" y1=\"20px\" y2=\"48px\" /></svg><line stroke=\"black\" x1=\"50%\" x2=\"70.073%\" y1=\"20px\" y2=\"48px\" /><svg width=\"8.75912%\" x=\"73.7226%\" y=\"48px\"><defs /><svg width=\"100%\" x=\"0\" y=\"0px\"><defs /><text text-anchor=\"middle\" x=\"50%\" y=\"16px\">descending</text></svg><svg width=\"100%\" x=\"0%\" y=\"48px\"><defs /><svg width=\"100%\" x=\"0\" y=\"0px\"><defs /><text text-anchor=\"middle\" x=\"50%\" y=\"16px\">VBG</text></svg></svg><line stroke=\"black\" x1=\"50%\" x2=\"50%\" y1=\"20px\" y2=\"48px\" /></svg><line stroke=\"black\" x1=\"50%\" x2=\"78.1022%\" y1=\"20px\" y2=\"48px\" /><svg width=\"7.29927%\" x=\"82.4818%\" y=\"48px\"><defs /><svg width=\"100%\" x=\"0\" y=\"0px\"><defs /><text text-anchor=\"middle\" x=\"50%\" y=\"16px\">coronary</text></svg><svg width=\"100%\" x=\"0%\" y=\"48px\"><defs /><svg width=\"100%\" x=\"0\" y=\"0px\"><defs /><text text-anchor=\"middle\" x=\"50%\" y=\"16px\">JJ</text></svg></svg><line stroke=\"black\" x1=\"50%\" x2=\"50%\" y1=\"20px\" y2=\"48px\" /></svg><line stroke=\"black\" x1=\"50%\" x2=\"86.1314%\" y1=\"20px\" y2=\"48px\" /><svg width=\"5.83942%\" x=\"89.781%\" y=\"48px\"><defs /><svg width=\"100%\" x=\"0\" y=\"0px\"><defs /><text text-anchor=\"middle\" x=\"50%\" y=\"16px\">artery</text></svg><svg width=\"100%\" x=\"0%\" y=\"48px\"><defs /><svg width=\"100%\" x=\"0\" y=\"0px\"><defs /><text text-anchor=\"middle\" x=\"50%\" y=\"16px\">NN</text></svg></svg><line stroke=\"black\" x1=\"50%\" x2=\"50%\" y1=\"20px\" y2=\"48px\" /></svg><line stroke=\"black\" x1=\"50%\" x2=\"92.7007%\" y1=\"20px\" y2=\"48px\" /><svg width=\"2.18978%\" x=\"95.6204%\" y=\"48px\"><defs /><svg width=\"100%\" x=\"0\" y=\"0px\"><defs /><text text-anchor=\"middle\" x=\"50%\" y=\"16px\">)</text></svg><svg width=\"100%\" x=\"0%\" y=\"48px\"><defs /><svg width=\"100%\" x=\"0\" y=\"0px\"><defs /><text text-anchor=\"middle\" x=\"50%\" y=\"16px\">)</text></svg></svg><line stroke=\"black\" x1=\"50%\" x2=\"50%\" y1=\"20px\" y2=\"48px\" /></svg><line stroke=\"black\" x1=\"50%\" x2=\"96.7153%\" y1=\"20px\" y2=\"48px\" /><svg width=\"2.18978%\" x=\"97.8102%\" y=\"48px\"><defs /><svg width=\"100%\" x=\"0\" y=\"0px\"><defs /><text text-anchor=\"middle\" x=\"50%\" y=\"16px\">.</text></svg><svg width=\"100%\" x=\"0%\" y=\"48px\"><defs /><svg width=\"100%\" x=\"0\" y=\"0px\"><defs /><text text-anchor=\"middle\" x=\"50%\" y=\"16px\">.</text></svg></svg><line stroke=\"black\" x1=\"50%\" x2=\"50%\" y1=\"20px\" y2=\"48px\" /></svg><line stroke=\"black\" x1=\"50%\" x2=\"98.9051%\" y1=\"20px\" y2=\"48px\" /></svg>"
     },
     "execution_count": 123,
     "metadata": {},
     "output_type": "execute_result"
    }
   ],
   "execution_count": 123
  }
 ],
 "metadata": {
  "kernelspec": {
   "display_name": "Python 3",
   "language": "python",
   "name": "python3"
  },
  "language_info": {
   "codemirror_mode": {
    "name": "ipython",
    "version": 2
   },
   "file_extension": ".py",
   "mimetype": "text/x-python",
   "name": "python",
   "nbconvert_exporter": "python",
   "pygments_lexer": "ipython2",
   "version": "2.7.6"
  }
 },
 "nbformat": 4,
 "nbformat_minor": 5
}
