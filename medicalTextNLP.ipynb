{
 "cells": [
  {
   "metadata": {},
   "cell_type": "markdown",
   "source": [
    "# Medical Text\n",
    "\n",
    "Medical Text Dataset [https://www.kaggle.com/datasets/chaitanyakck/medical-text/data]"
   ],
   "id": "8a77807f92f26ee"
  },
  {
   "metadata": {
    "ExecuteTime": {
     "end_time": "2025-01-18T09:09:27.965602Z",
     "start_time": "2025-01-18T09:09:27.399740Z"
    }
   },
   "cell_type": "code",
   "source": [
    "import pandas as pd\n",
    "import nltk"
   ],
   "id": "82888b3b45f77be7",
   "outputs": [],
   "execution_count": 1
  },
  {
   "metadata": {
    "ExecuteTime": {
     "end_time": "2025-01-18T09:09:28.120298Z",
     "start_time": "2025-01-18T09:09:27.965602Z"
    }
   },
   "cell_type": "code",
   "source": "df = pd.read_csv('data/train.dat', sep=\"\\t\", header=None)",
   "id": "faca1ac861464132",
   "outputs": [],
   "execution_count": 2
  },
  {
   "metadata": {
    "ExecuteTime": {
     "end_time": "2025-01-18T09:09:28.276497Z",
     "start_time": "2025-01-18T09:09:28.264935Z"
    }
   },
   "cell_type": "code",
   "source": [
    "df.rename(columns={0:'condition', 1:'abstract'}, inplace=True)\n",
    "df.head()"
   ],
   "id": "135a9e3242a7d792",
   "outputs": [
    {
     "data": {
      "text/plain": [
       "   condition                                           abstract\n",
       "0          4  Catheterization laboratory events and hospital...\n",
       "1          5  Renal abscess in children. Three cases of rena...\n",
       "2          2  Hyperplastic polyps seen at sigmoidoscopy are ...\n",
       "3          5  Subclavian artery to innominate vein fistula a...\n",
       "4          4  Effect of local inhibition of gamma-aminobutyr..."
      ],
      "text/html": [
       "<div>\n",
       "<style scoped>\n",
       "    .dataframe tbody tr th:only-of-type {\n",
       "        vertical-align: middle;\n",
       "    }\n",
       "\n",
       "    .dataframe tbody tr th {\n",
       "        vertical-align: top;\n",
       "    }\n",
       "\n",
       "    .dataframe thead th {\n",
       "        text-align: right;\n",
       "    }\n",
       "</style>\n",
       "<table border=\"1\" class=\"dataframe\">\n",
       "  <thead>\n",
       "    <tr style=\"text-align: right;\">\n",
       "      <th></th>\n",
       "      <th>condition</th>\n",
       "      <th>abstract</th>\n",
       "    </tr>\n",
       "  </thead>\n",
       "  <tbody>\n",
       "    <tr>\n",
       "      <th>0</th>\n",
       "      <td>4</td>\n",
       "      <td>Catheterization laboratory events and hospital...</td>\n",
       "    </tr>\n",
       "    <tr>\n",
       "      <th>1</th>\n",
       "      <td>5</td>\n",
       "      <td>Renal abscess in children. Three cases of rena...</td>\n",
       "    </tr>\n",
       "    <tr>\n",
       "      <th>2</th>\n",
       "      <td>2</td>\n",
       "      <td>Hyperplastic polyps seen at sigmoidoscopy are ...</td>\n",
       "    </tr>\n",
       "    <tr>\n",
       "      <th>3</th>\n",
       "      <td>5</td>\n",
       "      <td>Subclavian artery to innominate vein fistula a...</td>\n",
       "    </tr>\n",
       "    <tr>\n",
       "      <th>4</th>\n",
       "      <td>4</td>\n",
       "      <td>Effect of local inhibition of gamma-aminobutyr...</td>\n",
       "    </tr>\n",
       "  </tbody>\n",
       "</table>\n",
       "</div>"
      ]
     },
     "execution_count": 3,
     "metadata": {},
     "output_type": "execute_result"
    }
   ],
   "execution_count": 3
  },
  {
   "metadata": {},
   "cell_type": "markdown",
   "source": "## Sentence splitting",
   "id": "d1957269af718fe9"
  },
  {
   "metadata": {
    "ExecuteTime": {
     "end_time": "2025-01-18T09:09:30.004575Z",
     "start_time": "2025-01-18T09:09:28.307536Z"
    }
   },
   "cell_type": "code",
   "source": [
    "# Split the text into sentences\n",
    "sentences = df.abstract.apply(nltk.sent_tokenize)"
   ],
   "id": "1e7ded392644ba7e",
   "outputs": [],
   "execution_count": 4
  },
  {
   "metadata": {
    "ExecuteTime": {
     "end_time": "2025-01-18T09:09:30.078816Z",
     "start_time": "2025-01-18T09:09:30.071190Z"
    }
   },
   "cell_type": "code",
   "source": "sentences[0] # Print the first record",
   "id": "c8f63eb911c59d60",
   "outputs": [
    {
     "data": {
      "text/plain": [
       "['Catheterization laboratory events and hospital outcome with direct angioplasty for acute myocardial infarction To assess the safety of direct infarct angioplasty without antecedent thrombolytic therapy, catheterization laboratory and hospital events were assessed in consecutively treated patients with infarctions involving the left anterior descending (n = 100 patients), right (n = 100), and circumflex (n = 50) coronary arteries.',\n",
       " 'The groups of patients were similar for age (left anterior descending coronary artery, 59 years; right coronary artery, 58 years; circumflex coronary artery, 62 years), patients with multivessel disease (left anterior descending coronary artery, 55%; right coronary artery, 55%; circumflex coronary artery, 64%), and patients with initial grade 0/1 antegrade flow (left anterior descending coronary artery, 79%; right coronary artery, 84%; circumflex coronary artery, 90%).',\n",
       " 'Cardiogenic shock was present in eight patients with infarction of the left anterior descending coronary artery, four with infarction of the right coronary artery, and four with infarction of the circumflex coronary artery.',\n",
       " 'Major catheterization laboratory events (cardioversion, cardiopulmonary resuscitation, dopamine or intra-aortic balloon pump support for hypotension, and urgent surgery) occurred in 10 patients with infarction of the left anterior descending coronary artery, eight with infarction of the right coronary artery, and four with infarction of the circumflex coronary artery (16 of 16 shock and six of 234 nonshock patients, p less than 0.001).',\n",
       " 'There was one in-laboratory death (shock patient with infarction of the left anterior descending coronary artery).']"
      ]
     },
     "execution_count": 5,
     "metadata": {},
     "output_type": "execute_result"
    }
   ],
   "execution_count": 5
  },
  {
   "metadata": {},
   "cell_type": "markdown",
   "source": "## Word Tokenization",
   "id": "f600e541bbfe2685"
  },
  {
   "metadata": {
    "ExecuteTime": {
     "end_time": "2025-01-18T09:09:30.105310Z",
     "start_time": "2025-01-18T09:09:30.086327Z"
    }
   },
   "cell_type": "code",
   "source": "lexical_df = df.copy() # a df to compute lexical analysis on",
   "id": "904761bbad3d5625",
   "outputs": [],
   "execution_count": 6
  },
  {
   "metadata": {
    "ExecuteTime": {
     "end_time": "2025-01-18T09:09:39.477252Z",
     "start_time": "2025-01-18T09:09:30.134182Z"
    }
   },
   "cell_type": "code",
   "source": [
    "tokens = []\n",
    "for sentence in sentences:\n",
    "    words = [nltk.word_tokenize(sent) for sent in sentence]\n",
    "    tokens.append(words)\n",
    "lexical_df[\"token_abstract\"] = tokens # set tokenized sentences as df col to save progress"
   ],
   "id": "d24d8b1f845bf377",
   "outputs": [],
   "execution_count": 7
  },
  {
   "metadata": {
    "ExecuteTime": {
     "end_time": "2025-01-18T09:09:39.509082Z",
     "start_time": "2025-01-18T09:09:39.489628Z"
    }
   },
   "cell_type": "code",
   "source": "lexical_df.head()",
   "id": "549b792387063b7",
   "outputs": [
    {
     "data": {
      "text/plain": [
       "   condition                                           abstract  \\\n",
       "0          4  Catheterization laboratory events and hospital...   \n",
       "1          5  Renal abscess in children. Three cases of rena...   \n",
       "2          2  Hyperplastic polyps seen at sigmoidoscopy are ...   \n",
       "3          5  Subclavian artery to innominate vein fistula a...   \n",
       "4          4  Effect of local inhibition of gamma-aminobutyr...   \n",
       "\n",
       "                                      token_abstract  \n",
       "0  [[Catheterization, laboratory, events, and, ho...  \n",
       "1  [[Renal, abscess, in, children, .], [Three, ca...  \n",
       "2  [[Hyperplastic, polyps, seen, at, sigmoidoscop...  \n",
       "3  [[Subclavian, artery, to, innominate, vein, fi...  \n",
       "4  [[Effect, of, local, inhibition, of, gamma-ami...  "
      ],
      "text/html": [
       "<div>\n",
       "<style scoped>\n",
       "    .dataframe tbody tr th:only-of-type {\n",
       "        vertical-align: middle;\n",
       "    }\n",
       "\n",
       "    .dataframe tbody tr th {\n",
       "        vertical-align: top;\n",
       "    }\n",
       "\n",
       "    .dataframe thead th {\n",
       "        text-align: right;\n",
       "    }\n",
       "</style>\n",
       "<table border=\"1\" class=\"dataframe\">\n",
       "  <thead>\n",
       "    <tr style=\"text-align: right;\">\n",
       "      <th></th>\n",
       "      <th>condition</th>\n",
       "      <th>abstract</th>\n",
       "      <th>token_abstract</th>\n",
       "    </tr>\n",
       "  </thead>\n",
       "  <tbody>\n",
       "    <tr>\n",
       "      <th>0</th>\n",
       "      <td>4</td>\n",
       "      <td>Catheterization laboratory events and hospital...</td>\n",
       "      <td>[[Catheterization, laboratory, events, and, ho...</td>\n",
       "    </tr>\n",
       "    <tr>\n",
       "      <th>1</th>\n",
       "      <td>5</td>\n",
       "      <td>Renal abscess in children. Three cases of rena...</td>\n",
       "      <td>[[Renal, abscess, in, children, .], [Three, ca...</td>\n",
       "    </tr>\n",
       "    <tr>\n",
       "      <th>2</th>\n",
       "      <td>2</td>\n",
       "      <td>Hyperplastic polyps seen at sigmoidoscopy are ...</td>\n",
       "      <td>[[Hyperplastic, polyps, seen, at, sigmoidoscop...</td>\n",
       "    </tr>\n",
       "    <tr>\n",
       "      <th>3</th>\n",
       "      <td>5</td>\n",
       "      <td>Subclavian artery to innominate vein fistula a...</td>\n",
       "      <td>[[Subclavian, artery, to, innominate, vein, fi...</td>\n",
       "    </tr>\n",
       "    <tr>\n",
       "      <th>4</th>\n",
       "      <td>4</td>\n",
       "      <td>Effect of local inhibition of gamma-aminobutyr...</td>\n",
       "      <td>[[Effect, of, local, inhibition, of, gamma-ami...</td>\n",
       "    </tr>\n",
       "  </tbody>\n",
       "</table>\n",
       "</div>"
      ]
     },
     "execution_count": 8,
     "metadata": {},
     "output_type": "execute_result"
    }
   ],
   "execution_count": 8
  },
  {
   "metadata": {},
   "cell_type": "markdown",
   "source": "## Lemmatization",
   "id": "4c76d49e60a61acc"
  },
  {
   "metadata": {
    "ExecuteTime": {
     "end_time": "2025-01-18T09:09:50.681977Z",
     "start_time": "2025-01-18T09:09:39.565561Z"
    }
   },
   "cell_type": "code",
   "source": [
    "wnl = nltk.WordNetLemmatizer()\n",
    "lemm = []\n",
    "for record in lexical_df.token_abstract:\n",
    "    l = []\n",
    "    for word in record:\n",
    "        l.append([wnl.lemmatize(t) for t in word]) # update sentences into lemmatized\n",
    "    lemm.append(l)\n",
    "lexical_df[\"lemm_abstract\"] = lemm"
   ],
   "id": "8e7e612aea728905",
   "outputs": [],
   "execution_count": 9
  },
  {
   "metadata": {
    "ExecuteTime": {
     "end_time": "2025-01-18T09:13:33.506801Z",
     "start_time": "2025-01-18T09:13:33.349673Z"
    }
   },
   "cell_type": "code",
   "source": "lexical_df.head()",
   "id": "fa7459d429e48ba4",
   "outputs": [
    {
     "data": {
      "text/plain": [
       "   condition                                           abstract  \\\n",
       "0          4  Catheterization laboratory events and hospital...   \n",
       "1          5  Renal abscess in children. Three cases of rena...   \n",
       "2          2  Hyperplastic polyps seen at sigmoidoscopy are ...   \n",
       "3          5  Subclavian artery to innominate vein fistula a...   \n",
       "4          4  Effect of local inhibition of gamma-aminobutyr...   \n",
       "\n",
       "                                      token_abstract  \\\n",
       "0  [[Catheterization, laboratory, events, and, ho...   \n",
       "1  [[Renal, abscess, in, children, .], [Three, ca...   \n",
       "2  [[Hyperplastic, polyps, seen, at, sigmoidoscop...   \n",
       "3  [[Subclavian, artery, to, innominate, vein, fi...   \n",
       "4  [[Effect, of, local, inhibition, of, gamma-ami...   \n",
       "\n",
       "                                       lemm_abstract  \\\n",
       "0  [[Catheterization, laboratory, event, and, hos...   \n",
       "1  [[Renal, abscess, in, child, .], [Three, case,...   \n",
       "2  [[Hyperplastic, polyp, seen, at, sigmoidoscopy...   \n",
       "3  [[Subclavian, artery, to, innominate, vein, fi...   \n",
       "4  [[Effect, of, local, inhibition, of, gamma-ami...   \n",
       "\n",
       "                                        pos_abstract  \n",
       "0  [[(Catheterization, NNP), (laboratory, NN), (e...  \n",
       "1  [[(Renal, JJ), (abscess, NN), (in, IN), (child...  \n",
       "2  [[(Hyperplastic, JJ), (polyps, NNS), (seen, VB...  \n",
       "3  [[(Subclavian, JJ), (artery, NN), (to, TO), (i...  \n",
       "4  [[(Effect, NNP), (of, IN), (local, JJ), (inhib...  "
      ],
      "text/html": [
       "<div>\n",
       "<style scoped>\n",
       "    .dataframe tbody tr th:only-of-type {\n",
       "        vertical-align: middle;\n",
       "    }\n",
       "\n",
       "    .dataframe tbody tr th {\n",
       "        vertical-align: top;\n",
       "    }\n",
       "\n",
       "    .dataframe thead th {\n",
       "        text-align: right;\n",
       "    }\n",
       "</style>\n",
       "<table border=\"1\" class=\"dataframe\">\n",
       "  <thead>\n",
       "    <tr style=\"text-align: right;\">\n",
       "      <th></th>\n",
       "      <th>condition</th>\n",
       "      <th>abstract</th>\n",
       "      <th>token_abstract</th>\n",
       "      <th>lemm_abstract</th>\n",
       "      <th>pos_abstract</th>\n",
       "    </tr>\n",
       "  </thead>\n",
       "  <tbody>\n",
       "    <tr>\n",
       "      <th>0</th>\n",
       "      <td>4</td>\n",
       "      <td>Catheterization laboratory events and hospital...</td>\n",
       "      <td>[[Catheterization, laboratory, events, and, ho...</td>\n",
       "      <td>[[Catheterization, laboratory, event, and, hos...</td>\n",
       "      <td>[[(Catheterization, NNP), (laboratory, NN), (e...</td>\n",
       "    </tr>\n",
       "    <tr>\n",
       "      <th>1</th>\n",
       "      <td>5</td>\n",
       "      <td>Renal abscess in children. Three cases of rena...</td>\n",
       "      <td>[[Renal, abscess, in, children, .], [Three, ca...</td>\n",
       "      <td>[[Renal, abscess, in, child, .], [Three, case,...</td>\n",
       "      <td>[[(Renal, JJ), (abscess, NN), (in, IN), (child...</td>\n",
       "    </tr>\n",
       "    <tr>\n",
       "      <th>2</th>\n",
       "      <td>2</td>\n",
       "      <td>Hyperplastic polyps seen at sigmoidoscopy are ...</td>\n",
       "      <td>[[Hyperplastic, polyps, seen, at, sigmoidoscop...</td>\n",
       "      <td>[[Hyperplastic, polyp, seen, at, sigmoidoscopy...</td>\n",
       "      <td>[[(Hyperplastic, JJ), (polyps, NNS), (seen, VB...</td>\n",
       "    </tr>\n",
       "    <tr>\n",
       "      <th>3</th>\n",
       "      <td>5</td>\n",
       "      <td>Subclavian artery to innominate vein fistula a...</td>\n",
       "      <td>[[Subclavian, artery, to, innominate, vein, fi...</td>\n",
       "      <td>[[Subclavian, artery, to, innominate, vein, fi...</td>\n",
       "      <td>[[(Subclavian, JJ), (artery, NN), (to, TO), (i...</td>\n",
       "    </tr>\n",
       "    <tr>\n",
       "      <th>4</th>\n",
       "      <td>4</td>\n",
       "      <td>Effect of local inhibition of gamma-aminobutyr...</td>\n",
       "      <td>[[Effect, of, local, inhibition, of, gamma-ami...</td>\n",
       "      <td>[[Effect, of, local, inhibition, of, gamma-ami...</td>\n",
       "      <td>[[(Effect, NNP), (of, IN), (local, JJ), (inhib...</td>\n",
       "    </tr>\n",
       "  </tbody>\n",
       "</table>\n",
       "</div>"
      ]
     },
     "execution_count": 14,
     "metadata": {},
     "output_type": "execute_result"
    }
   ],
   "execution_count": 14
  },
  {
   "metadata": {},
   "cell_type": "markdown",
   "source": "## POS tagging",
   "id": "84f5321c03f3d4b1"
  },
  {
   "metadata": {
    "ExecuteTime": {
     "end_time": "2025-01-18T09:11:26.912830Z",
     "start_time": "2025-01-18T09:10:21.544192Z"
    }
   },
   "cell_type": "code",
   "source": [
    "pos = []\n",
    "for sentence in lexical_df.token_abstract:\n",
    "    pos.append([nltk.pos_tag(sent) for sent in sentence])\n",
    "lexical_df[\"pos_abstract\"] = pos"
   ],
   "id": "fdc3af7da72d6895",
   "outputs": [],
   "execution_count": 12
  },
  {
   "metadata": {
    "ExecuteTime": {
     "end_time": "2025-01-18T09:13:00.379285Z",
     "start_time": "2025-01-18T09:13:00.148735Z"
    }
   },
   "cell_type": "code",
   "source": "lexical_df.head()",
   "id": "2873a9096070e6c0",
   "outputs": [
    {
     "data": {
      "text/plain": [
       "   condition                                           abstract  \\\n",
       "0          4  Catheterization laboratory events and hospital...   \n",
       "1          5  Renal abscess in children. Three cases of rena...   \n",
       "2          2  Hyperplastic polyps seen at sigmoidoscopy are ...   \n",
       "3          5  Subclavian artery to innominate vein fistula a...   \n",
       "4          4  Effect of local inhibition of gamma-aminobutyr...   \n",
       "\n",
       "                                      token_abstract  \\\n",
       "0  [[Catheterization, laboratory, events, and, ho...   \n",
       "1  [[Renal, abscess, in, children, .], [Three, ca...   \n",
       "2  [[Hyperplastic, polyps, seen, at, sigmoidoscop...   \n",
       "3  [[Subclavian, artery, to, innominate, vein, fi...   \n",
       "4  [[Effect, of, local, inhibition, of, gamma-ami...   \n",
       "\n",
       "                                       lemm_abstract  \\\n",
       "0  [[Catheterization, laboratory, event, and, hos...   \n",
       "1  [[Renal, abscess, in, child, .], [Three, case,...   \n",
       "2  [[Hyperplastic, polyp, seen, at, sigmoidoscopy...   \n",
       "3  [[Subclavian, artery, to, innominate, vein, fi...   \n",
       "4  [[Effect, of, local, inhibition, of, gamma-ami...   \n",
       "\n",
       "                                        pos_abstract  \n",
       "0  [[(Catheterization, NNP), (laboratory, NN), (e...  \n",
       "1  [[(Renal, JJ), (abscess, NN), (in, IN), (child...  \n",
       "2  [[(Hyperplastic, JJ), (polyps, NNS), (seen, VB...  \n",
       "3  [[(Subclavian, JJ), (artery, NN), (to, TO), (i...  \n",
       "4  [[(Effect, NNP), (of, IN), (local, JJ), (inhib...  "
      ],
      "text/html": [
       "<div>\n",
       "<style scoped>\n",
       "    .dataframe tbody tr th:only-of-type {\n",
       "        vertical-align: middle;\n",
       "    }\n",
       "\n",
       "    .dataframe tbody tr th {\n",
       "        vertical-align: top;\n",
       "    }\n",
       "\n",
       "    .dataframe thead th {\n",
       "        text-align: right;\n",
       "    }\n",
       "</style>\n",
       "<table border=\"1\" class=\"dataframe\">\n",
       "  <thead>\n",
       "    <tr style=\"text-align: right;\">\n",
       "      <th></th>\n",
       "      <th>condition</th>\n",
       "      <th>abstract</th>\n",
       "      <th>token_abstract</th>\n",
       "      <th>lemm_abstract</th>\n",
       "      <th>pos_abstract</th>\n",
       "    </tr>\n",
       "  </thead>\n",
       "  <tbody>\n",
       "    <tr>\n",
       "      <th>0</th>\n",
       "      <td>4</td>\n",
       "      <td>Catheterization laboratory events and hospital...</td>\n",
       "      <td>[[Catheterization, laboratory, events, and, ho...</td>\n",
       "      <td>[[Catheterization, laboratory, event, and, hos...</td>\n",
       "      <td>[[(Catheterization, NNP), (laboratory, NN), (e...</td>\n",
       "    </tr>\n",
       "    <tr>\n",
       "      <th>1</th>\n",
       "      <td>5</td>\n",
       "      <td>Renal abscess in children. Three cases of rena...</td>\n",
       "      <td>[[Renal, abscess, in, children, .], [Three, ca...</td>\n",
       "      <td>[[Renal, abscess, in, child, .], [Three, case,...</td>\n",
       "      <td>[[(Renal, JJ), (abscess, NN), (in, IN), (child...</td>\n",
       "    </tr>\n",
       "    <tr>\n",
       "      <th>2</th>\n",
       "      <td>2</td>\n",
       "      <td>Hyperplastic polyps seen at sigmoidoscopy are ...</td>\n",
       "      <td>[[Hyperplastic, polyps, seen, at, sigmoidoscop...</td>\n",
       "      <td>[[Hyperplastic, polyp, seen, at, sigmoidoscopy...</td>\n",
       "      <td>[[(Hyperplastic, JJ), (polyps, NNS), (seen, VB...</td>\n",
       "    </tr>\n",
       "    <tr>\n",
       "      <th>3</th>\n",
       "      <td>5</td>\n",
       "      <td>Subclavian artery to innominate vein fistula a...</td>\n",
       "      <td>[[Subclavian, artery, to, innominate, vein, fi...</td>\n",
       "      <td>[[Subclavian, artery, to, innominate, vein, fi...</td>\n",
       "      <td>[[(Subclavian, JJ), (artery, NN), (to, TO), (i...</td>\n",
       "    </tr>\n",
       "    <tr>\n",
       "      <th>4</th>\n",
       "      <td>4</td>\n",
       "      <td>Effect of local inhibition of gamma-aminobutyr...</td>\n",
       "      <td>[[Effect, of, local, inhibition, of, gamma-ami...</td>\n",
       "      <td>[[Effect, of, local, inhibition, of, gamma-ami...</td>\n",
       "      <td>[[(Effect, NNP), (of, IN), (local, JJ), (inhib...</td>\n",
       "    </tr>\n",
       "  </tbody>\n",
       "</table>\n",
       "</div>"
      ]
     },
     "execution_count": 13,
     "metadata": {},
     "output_type": "execute_result"
    }
   ],
   "execution_count": 13
  },
  {
   "metadata": {},
   "cell_type": "code",
   "outputs": [],
   "execution_count": null,
   "source": "",
   "id": "8f9369fd0c010949"
  }
 ],
 "metadata": {
  "kernelspec": {
   "display_name": "Python 3",
   "language": "python",
   "name": "python3"
  },
  "language_info": {
   "codemirror_mode": {
    "name": "ipython",
    "version": 2
   },
   "file_extension": ".py",
   "mimetype": "text/x-python",
   "name": "python",
   "nbconvert_exporter": "python",
   "pygments_lexer": "ipython2",
   "version": "2.7.6"
  }
 },
 "nbformat": 4,
 "nbformat_minor": 5
}
